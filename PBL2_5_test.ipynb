{
 "cells": [
  {
   "cell_type": "markdown",
   "id": "9568d037",
   "metadata": {},
   "source": [
    "### PBL2_5\n",
    "- 고객 이탈 여부 예측을 위한 딥러닝 분류 모델 설계\n",
    "\n",
    "- 케라스 모델 구성(Input --> Dense --> Dropout --> Dense)\n",
    "- sklearn metrics로 평가 지표 계산\n",
    "\n",
    "\n",
    "- 전처리\n",
    "    - ContractType --> 원 핫 인코딩\n",
    "    - StandaraScaler로 정규화\n",
    "\n",
    "- 모델\n",
    "    - Dense 레이어 기반 MLP\n",
    "    - 시그모이드 출력, Binary Crossentropy 손실 함수\n",
    "    - 클래스 불균형을 고려한 가중치 적용(예:class_weights = {0:1.0, 1:2.0})\n",
    "\n",
    "- 평가: 평가 지표 및 분류 보고서 출력\n",
    "\n",
    "- 과적합 방지 및 시그모이드 구조 반영하기\n",
    "- 성능 우수 여부 판단하기(평가 지표)\n",
    "- 이진 분류 전처리 처리 능력\n",
    "    - 클래스 불균형 처리를 위한 가중치 적용 또는 분리 전략 여부\n",
    "- 보고서 구성 및 혼동행렬 해석\n",
    "\n"
   ]
  },
  {
   "cell_type": "code",
   "execution_count": 33,
   "id": "368403b5",
   "metadata": {},
   "outputs": [],
   "source": [
    "#라이브러리 로드\n",
    "import numpy as np\n",
    "import pandas as pd\n",
    "import tensorflow as tf\n",
    "\n",
    "from sklearn.preprocessing import StandardScaler\n",
    "from tensorflow.keras.models import Sequential\n",
    "from tensorflow.keras.layers import Dense \n",
    "from sklearn.model_selection import train_test_split\n",
    "from sklearn.metrics import accuracy_score, f1_score, confusion_matrix, classification_report\n"
   ]
  },
  {
   "cell_type": "code",
   "execution_count": 20,
   "id": "54db8fb2",
   "metadata": {},
   "outputs": [],
   "source": [
    "''' \n",
    "필요한 기능\n",
    "1. 원 핫 인코딩 및StandardScaler 정규화 기능\n",
    "2. 모델을 통한 학습 및 결과 출력(keras, Dense Layer 기반 MLP(Dropout 포함))\n",
    "3. 평가 지표 계산을 통해 결과 분석\n",
    "'''\n",
    "\n",
    "#데이터 생성\n",
    "df = pd.read_csv('customer_data_balanced.csv')\n"
   ]
  },
  {
   "cell_type": "code",
   "execution_count": 21,
   "id": "ac0f6223",
   "metadata": {},
   "outputs": [],
   "source": [
    "#데이터 전처리\n",
    "#특성과 타깃을 분리\n",
    "#특성: X\n",
    "X = df.drop('IsChurn', axis=1) \n",
    "#타깃: y\n",
    "y = df['IsChurn']\n",
    "\n",
    "#원 핫 인코딩\n",
    "df = pd.get_dummies(df, columns=['ContractType'])\n"
   ]
  },
  {
   "cell_type": "code",
   "execution_count": 22,
   "id": "e9125ead",
   "metadata": {},
   "outputs": [],
   "source": [
    "#데이터 분할\n",
    "X_train, X_temp, y_train, y_temp = train_test_split(\n",
    "    df, \n",
    "    y, \n",
    "    test_size=0.3, \n",
    "    random_state=42)\n"
   ]
  },
  {
   "cell_type": "code",
   "execution_count": 23,
   "id": "364e0acf",
   "metadata": {},
   "outputs": [],
   "source": [
    "#나머지 데이터(30%)를 검증 데이터와 테스트 데이터로 분할\n",
    "X_val, X_test, y_val, y_test = train_test_split(\n",
    "    X_temp, \n",
    "    y_temp,\n",
    "    test_size=0.5,\n",
    "    random_state=42)\n"
   ]
  },
  {
   "cell_type": "code",
   "execution_count": 26,
   "id": "82e920e1",
   "metadata": {},
   "outputs": [],
   "source": [
    "#데이터 전처리\n",
    "#데이터 정규화\n",
    "scaler = StandardScaler()\n",
    "\n",
    "X_train = scaler.fit_transform(X_train)\n",
    "X_val = scaler.transform(X_val)\n",
    "X_test = scaler.transform(X_test)\n"
   ]
  },
  {
   "cell_type": "code",
   "execution_count": 27,
   "id": "e1b7c9f9",
   "metadata": {},
   "outputs": [
    {
     "name": "stdout",
     "output_type": "stream",
     "text": [
      "train data size:  (1400, 8) (1400,)\n",
      "validatioin data size:  (300, 8) (300,)\n",
      "test data size:  (300, 8) (300,)\n"
     ]
    }
   ],
   "source": [
    "#데이터 크기 확인\n",
    "print('train data size: ', X_train.shape, y_train.shape)\n",
    "print('validatioin data size: ', X_val.shape, y_val.shape)\n",
    "print('test data size: ', X_test.shape, y_test.shape)"
   ]
  },
  {
   "cell_type": "code",
   "execution_count": 32,
   "id": "c580b68a",
   "metadata": {},
   "outputs": [],
   "source": [
    "#모델 설계\n",
    "#입력층, 은닉층, 출력층으로 구성된 이진 분류 모델\n",
    "\n",
    "model = tf.keras.Sequential([\n",
    "    #입력층\n",
    "    tf.keras.layers.Input(shape=(X_train.shape[1],)),\n",
    "    #첫 번째 은닉층\n",
    "    tf.keras.layers.Dense(64, activation='relu'),\n",
    "    #과적합 방지를 위한 Dropout\n",
    "    tf.keras.layers.Dropout(0.5),\n",
    "    #두 번째 은닉층\n",
    "    tf.keras.layers.Dense(32, activation='relu'),\n",
    "    #출력층(Sigmoid)\n",
    "    tf.keras.layers.Dense(1, activation='sigmoid')\n",
    "])"
   ]
  },
  {
   "cell_type": "code",
   "execution_count": 34,
   "id": "1a980bc7",
   "metadata": {},
   "outputs": [],
   "source": [
    "#모델 컴파일\n",
    "#손실함수: Binary Crossentropy\n",
    "#최적화 알고리즘: Adam\n",
    "#평가지표: Accuracy,F1-Score, Confusion Matrics, Classification_report\n",
    "model.compile(optimizer='adam',\n",
    "              loss='binary_crossentropy',\n",
    "              metrics=['accuracy'])"
   ]
  },
  {
   "cell_type": "code",
   "execution_count": null,
   "id": "56141bee",
   "metadata": {},
   "outputs": [],
   "source": [
    "#Early Stopping 설정. 0.000001보다 작게 개선되면 조기 종료\n",
    "early_stopping = tf.keras.callbacks.EarlyStopping(monitor='val_loss', patience=5, min_delta=0.000001, restore_best_weights=True)\n"
   ]
  },
  {
   "cell_type": "code",
   "execution_count": null,
   "id": "cdefdff5",
   "metadata": {},
   "outputs": [
    {
     "name": "stdout",
     "output_type": "stream",
     "text": [
      "Epoch 1/50\n",
      "\u001b[1m44/44\u001b[0m \u001b[32m━━━━━━━━━━━━━━━━━━━━\u001b[0m\u001b[37m\u001b[0m \u001b[1m0s\u001b[0m 4ms/step - accuracy: 1.0000 - loss: 1.8060e-09 - val_accuracy: 1.0000 - val_loss: 1.4119e-14\n",
      "Epoch 2/50\n",
      "\u001b[1m44/44\u001b[0m \u001b[32m━━━━━━━━━━━━━━━━━━━━\u001b[0m\u001b[37m\u001b[0m \u001b[1m0s\u001b[0m 3ms/step - accuracy: 1.0000 - loss: 4.1095e-09 - val_accuracy: 1.0000 - val_loss: 1.4013e-14\n",
      "Epoch 3/50\n",
      "\u001b[1m44/44\u001b[0m \u001b[32m━━━━━━━━━━━━━━━━━━━━\u001b[0m\u001b[37m\u001b[0m \u001b[1m0s\u001b[0m 3ms/step - accuracy: 1.0000 - loss: 3.9727e-09 - val_accuracy: 1.0000 - val_loss: 1.3958e-14\n",
      "Epoch 4/50\n",
      "\u001b[1m44/44\u001b[0m \u001b[32m━━━━━━━━━━━━━━━━━━━━\u001b[0m\u001b[37m\u001b[0m \u001b[1m0s\u001b[0m 3ms/step - accuracy: 1.0000 - loss: 2.2907e-07 - val_accuracy: 1.0000 - val_loss: 1.3653e-14\n",
      "Epoch 5/50\n",
      "\u001b[1m44/44\u001b[0m \u001b[32m━━━━━━━━━━━━━━━━━━━━\u001b[0m\u001b[37m\u001b[0m \u001b[1m0s\u001b[0m 3ms/step - accuracy: 1.0000 - loss: 9.6546e-07 - val_accuracy: 1.0000 - val_loss: 4.4997e-15\n",
      "Epoch 6/50\n",
      "\u001b[1m44/44\u001b[0m \u001b[32m━━━━━━━━━━━━━━━━━━━━\u001b[0m\u001b[37m\u001b[0m \u001b[1m0s\u001b[0m 3ms/step - accuracy: 1.0000 - loss: 1.1929e-09 - val_accuracy: 1.0000 - val_loss: 4.1131e-15\n"
     ]
    }
   ],
   "source": [
    "#모델 훈련\n",
    "history = model.fit(X_train, \n",
    "                    y_train,\n",
    "                    validation_data=(X_val, y_val),\n",
    "                    epochs=50,\n",
    "                    batch_size=32,\n",
    "                    callbacks=[early_stopping])\n"
   ]
  },
  {
   "cell_type": "code",
   "execution_count": 48,
   "id": "1a297f3d",
   "metadata": {},
   "outputs": [
    {
     "name": "stdout",
     "output_type": "stream",
     "text": [
      "\u001b[1m10/10\u001b[0m \u001b[32m━━━━━━━━━━━━━━━━━━━━\u001b[0m\u001b[37m\u001b[0m \u001b[1m0s\u001b[0m 3ms/step - accuracy: 1.0000 - loss: 1.5594e-14 \n"
     ]
    }
   ],
   "source": [
    "#모델 평가\n",
    "#테스트 데이터로 성능 평가\n",
    "test_loss, test_accuracy = model.evaluate(X_test, y_test)\n"
   ]
  },
  {
   "cell_type": "code",
   "execution_count": 53,
   "id": "18a365fd",
   "metadata": {},
   "outputs": [
    {
     "name": "stdout",
     "output_type": "stream",
     "text": [
      "Test Loss: 0.0000, Test Accuracy: 1.0000\n"
     ]
    }
   ],
   "source": [
    "print(f'Test Loss: {test_loss:.4f}, Test Accuracy: {test_accuracy:.4f}')"
   ]
  },
  {
   "cell_type": "code",
   "execution_count": 54,
   "id": "061b9093",
   "metadata": {},
   "outputs": [
    {
     "name": "stdout",
     "output_type": "stream",
     "text": [
      "\u001b[1m10/10\u001b[0m \u001b[32m━━━━━━━━━━━━━━━━━━━━\u001b[0m\u001b[37m\u001b[0m \u001b[1m0s\u001b[0m 6ms/step \n"
     ]
    }
   ],
   "source": [
    "#예측\n",
    "predictions = model.predict(X_test)\n",
    "predicted_classes = (predictions > 0.5).astype(int) #0.5 기준으로 클래스 결정\n",
    "\n"
   ]
  },
  {
   "cell_type": "code",
   "execution_count": 56,
   "id": "5ca2f3ab",
   "metadata": {},
   "outputs": [
    {
     "name": "stdout",
     "output_type": "stream",
     "text": [
      "Classicication Report: \n",
      "               precision    recall  f1-score   support\n",
      "\n",
      "           0       1.00      1.00      1.00       193\n",
      "           1       1.00      1.00      1.00       107\n",
      "\n",
      "    accuracy                           1.00       300\n",
      "   macro avg       1.00      1.00      1.00       300\n",
      "weighted avg       1.00      1.00      1.00       300\n",
      "\n"
     ]
    }
   ],
   "source": [
    "#분류 보고서 출력\n",
    "print('Classicication Report: \\n', classification_report(y_test, predicted_classes))\n"
   ]
  },
  {
   "cell_type": "code",
   "execution_count": null,
   "id": "87ea3503",
   "metadata": {},
   "outputs": [
    {
     "name": "stdout",
     "output_type": "stream",
     "text": [
      "Confusion Matrix: \n",
      "[[193   0]\n",
      " [  0 107]]\n"
     ]
    }
   ],
   "source": [
    "#혼동 행렬 출력\n",
    "''' \n",
    "모든 데이터들을 정확하게 분류. TP, TN 100%.\n",
    "'''\n",
    "print('Confusion Matrix: ')\n",
    "print(confusion_matrix(y_test, predicted_classes))"
   ]
  },
  {
   "cell_type": "markdown",
   "id": "5f616edd",
   "metadata": {},
   "source": []
  }
 ],
 "metadata": {
  "kernelspec": {
   "display_name": ".venv",
   "language": "python",
   "name": "python3"
  },
  "language_info": {
   "codemirror_mode": {
    "name": "ipython",
    "version": 3
   },
   "file_extension": ".py",
   "mimetype": "text/x-python",
   "name": "python",
   "nbconvert_exporter": "python",
   "pygments_lexer": "ipython3",
   "version": "3.9.13"
  }
 },
 "nbformat": 4,
 "nbformat_minor": 5
}
