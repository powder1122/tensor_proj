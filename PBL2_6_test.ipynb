{
 "cells": [
  {
   "cell_type": "markdown",
   "id": "9bed24b1",
   "metadata": {},
   "source": [
    "### 챗봇 만들기\n",
    "\n",
    "- 모델의 응답 흐름\n",
    "    1. 사용자 입력 --> 모델이 함수 호출 판단\n",
    "    2. 모델이 호출 요청한 함수 --> 직접 실행\n",
    "    3. 실행 결과 --> 다시 모델에 전달\n",
    "    4. 최종 자연어 응답 생성\n",
    "\n",
    "- 구현 조건\n",
    "    - openai 라이브러리 사용\n",
    "    - OpenAIAgent 클래스 구현\n",
    "    - 함수 호출 여부 판단, 실행 결과 처리 로직 포함\n",
    "    - 실제 실행 가능한 코드로 구성\n",
    "\n",
    "- 함수 정의\n",
    "    - convert_data_format(date_Str, current_format, target_format)\n",
    "    - add_numbers(x,y)\n",
    "    - 두 함수에 대한 Function calling용 JSON schema 정의\n",
    "\n",
    "- 에이전트 클래스 구현\n",
    "    - chat() 메서드: 사용자 입력을 받아 대화 처리\n",
    "    - call_openai(), handle_function_call() 등 서브 메서드 포함"
   ]
  },
  {
   "cell_type": "markdown",
   "id": "12e27bcb",
   "metadata": {},
   "source": []
  },
  {
   "cell_type": "code",
   "execution_count": 1,
   "id": "243c1c65",
   "metadata": {},
   "outputs": [],
   "source": [
    "import os\n",
    "import requests\n",
    "from datetime import datetime\n",
    "from openai import OpenAI\n",
    "from dotenv import load_dotenv"
   ]
  },
  {
   "cell_type": "code",
   "execution_count": null,
   "id": "f2d817ae",
   "metadata": {},
   "outputs": [],
   "source": [
    "#클래스 구조 만들기\n",
    "class OpenAIAgent:\n",
    "    def __init__(self):\n",
    "        #키 가져오기\n",
    "        load_dotenv()\n",
    "\n",
    "        self.OPENAI_API_KEY = os.getenv('OPENAI_API_KEY')\n",
    "        client = OpenAI(api_key=self.OPENAI_API_KEY)\n",
    "\n",
    "    #AI 호출\n",
    "    def call_openai(self, prompt):\n",
    "        response = client.responses.create()"
   ]
  },
  {
   "cell_type": "code",
   "execution_count": null,
   "id": "137e2a54",
   "metadata": {},
   "outputs": [],
   "source": []
  },
  {
   "cell_type": "code",
   "execution_count": null,
   "id": "3f4ae812",
   "metadata": {},
   "outputs": [],
   "source": []
  },
  {
   "cell_type": "code",
   "execution_count": null,
   "id": "bad3d10f",
   "metadata": {},
   "outputs": [],
   "source": []
  },
  {
   "cell_type": "code",
   "execution_count": null,
   "id": "787ba1db",
   "metadata": {},
   "outputs": [],
   "source": []
  },
  {
   "cell_type": "code",
   "execution_count": null,
   "id": "6f01b4c0",
   "metadata": {},
   "outputs": [],
   "source": []
  },
  {
   "cell_type": "code",
   "execution_count": null,
   "id": "60b69765",
   "metadata": {},
   "outputs": [],
   "source": []
  },
  {
   "cell_type": "code",
   "execution_count": null,
   "id": "113077b6",
   "metadata": {},
   "outputs": [],
   "source": []
  }
 ],
 "metadata": {
  "kernelspec": {
   "display_name": ".venv",
   "language": "python",
   "name": "python3"
  },
  "language_info": {
   "codemirror_mode": {
    "name": "ipython",
    "version": 3
   },
   "file_extension": ".py",
   "mimetype": "text/x-python",
   "name": "python",
   "nbconvert_exporter": "python",
   "pygments_lexer": "ipython3",
   "version": "3.9.13"
  }
 },
 "nbformat": 4,
 "nbformat_minor": 5
}
