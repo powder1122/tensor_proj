{
 "cells": [
  {
   "cell_type": "code",
   "execution_count": 64,
   "id": "20a10902",
   "metadata": {},
   "outputs": [],
   "source": [
    "from dotenv import load_dotenv\n",
    "from openai import OpenAI\n",
    "from io import BytesIO\n",
    "import requests\n",
    "import json\n",
    "import os\n",
    "\n",
    "load_dotenv()\n",
    "#키 가져오기\n",
    "OPENAI_API_KEY = os.getenv('OPENAI_API_KEY')"
   ]
  },
  {
   "cell_type": "code",
   "execution_count": 65,
   "id": "663444a1",
   "metadata": {},
   "outputs": [],
   "source": [
    "#객체 생성\n",
    "client = OpenAI()"
   ]
  },
  {
   "cell_type": "code",
   "execution_count": 66,
   "id": "5241b6cf",
   "metadata": {},
   "outputs": [],
   "source": [
    "#Responses API를 사용하여 파일 검색을 수행하기 전에, \n",
    "#벡터 스토어에 지식 기반을 설정하고 해당 스토어에 파일을 업로드\n",
    "def create_file(client, file_path):\n",
    "    if file_path.startswith(\"http://\") or file_path.startswith(\"https://\"):\n",
    "        # Download the file content from the URL\n",
    "        response = requests.get(file_path)\n",
    "        file_content = BytesIO(response.content)\n",
    "        file_name = file_path.split(\"/\")[-1]\n",
    "        file_tuple = (file_name, file_content)\n",
    "        result = client.files.create(\n",
    "            file=file_tuple,\n",
    "            purpose=\"assistants\"\n",
    "        )\n",
    "    else:\n",
    "        # Handle local file path\n",
    "        with open(file_path, \"rb\") as file_content:\n",
    "            result = client.files.create(\n",
    "                file=file_content,\n",
    "                purpose=\"assistants\"\n",
    "            )\n",
    "    print(result.id)\n",
    "    return result.id\n",
    "\n"
   ]
  },
  {
   "cell_type": "code",
   "execution_count": 67,
   "id": "0f36406e",
   "metadata": {},
   "outputs": [
    {
     "name": "stdout",
     "output_type": "stream",
     "text": [
      "file-UXq4aEbqf5Y72ySkNgVzyV\n"
     ]
    }
   ],
   "source": [
    "file_id = create_file(client, './howto-sockets.pdf')"
   ]
  },
  {
   "cell_type": "code",
   "execution_count": 68,
   "id": "dbecd091",
   "metadata": {},
   "outputs": [
    {
     "name": "stdout",
     "output_type": "stream",
     "text": [
      "vs_685cd263b1cc8191b83aea4d339d813c\n"
     ]
    }
   ],
   "source": [
    "#vector store 생성. 여러 벡터 저장소 생성 가능\n",
    "vector_store = client.vector_stores.create(\n",
    "    name='knowledge_base'\n",
    ")\n",
    "\n",
    "print(vector_store.id)"
   ]
  },
  {
   "cell_type": "code",
   "execution_count": 69,
   "id": "063fc91c",
   "metadata": {},
   "outputs": [
    {
     "data": {
      "text/plain": [
       "VectorStoreFile(id='file-UXq4aEbqf5Y72ySkNgVzyV', created_at=1750913636, last_error=None, object='vector_store.file', status='in_progress', usage_bytes=0, vector_store_id='vs_685cd263b1cc8191b83aea4d339d813c', attributes={}, chunking_strategy=StaticFileChunkingStrategyObject(static=StaticFileChunkingStrategy(chunk_overlap_tokens=400, max_chunk_size_tokens=800), type='static'))"
      ]
     },
     "execution_count": 69,
     "metadata": {},
     "output_type": "execute_result"
    }
   ],
   "source": [
    "#파일을 vector store에 추가\n",
    "client.vector_stores.files.create(\n",
    "    vector_store_id=vector_store.id,\n",
    "    file_id=file_id\n",
    ")\n"
   ]
  },
  {
   "cell_type": "code",
   "execution_count": 70,
   "id": "d5f5c5e3",
   "metadata": {},
   "outputs": [
    {
     "name": "stdout",
     "output_type": "stream",
     "text": [
      "SyncCursorPage[VectorStoreFile](data=[VectorStoreFile(id='file-UXq4aEbqf5Y72ySkNgVzyV', created_at=1750913636, last_error=None, object='vector_store.file', status='in_progress', usage_bytes=0, vector_store_id='vs_685cd263b1cc8191b83aea4d339d813c', attributes={}, chunking_strategy=StaticFileChunkingStrategyObject(static=StaticFileChunkingStrategy(chunk_overlap_tokens=400, max_chunk_size_tokens=800), type='static'))], has_more=False, object='list', first_id='file-UXq4aEbqf5Y72ySkNgVzyV', last_id='file-UXq4aEbqf5Y72ySkNgVzyV')\n"
     ]
    }
   ],
   "source": [
    "result_list = client.vector_stores.files.list(\n",
    "    vector_store_id=vector_store.id\n",
    ")\n",
    "\n",
    "print(result_list)"
   ]
  },
  {
   "cell_type": "code",
   "execution_count": 71,
   "id": "08057976",
   "metadata": {},
   "outputs": [
    {
     "name": "stdout",
     "output_type": "stream",
     "text": [
      "Response(id='resp_685cd264e6fc8199af240ab38f76c5b101978c5833a00910', created_at=1750913636.0, error=None, incomplete_details=None, instructions=None, metadata={}, model='gpt-4.1-2025-04-14', object='response', output=[ResponseFileSearchToolCall(id='fs_685cd265a400819993dc27cbd0d729e601978c5833a00910', queries=['파이썬 소켓 만드는 방법 간단 설명', '파이썬 소켓 예제 코드', 'socket 모듈 사용법', '파이썬 서버 소켓', '파이썬 클라이언트 소켓'], status='completed', type='file_search_call', results=None), ResponseOutputMessage(id='msg_685cd269df8c8199898c8547e9ed862201978c5833a00910', content=[ResponseOutputText(annotations=[AnnotationFileCitation(file_id='file-UXq4aEbqf5Y72ySkNgVzyV', filename='howto-sockets.pdf', index=1333, type='file_citation'), AnnotationFileCitation(file_id='file-UXq4aEbqf5Y72ySkNgVzyV', filename='howto-sockets.pdf', index=1333, type='file_citation')], text='파이썬에서 소켓을 만드는 방법은 간단합니다. 기본적으로 `socket` 모듈을 사용합니다. 간단한 TCP 클라이언트와 서버 예제도 함께 설명드리겠습니다.\\n\\n---\\n\\n### 1. 소켓 만들기\\n\\n먼저 소켓 객체를 생성합니다.\\n```python\\nimport socket\\ns = socket.socket(socket.AF_INET, socket.SOCK_STREAM)\\n```\\n- `AF_INET`: IPv4(인터넷 주소 패밀리)\\n- `SOCK_STREAM`: TCP 소켓\\n\\n---\\n\\n### 2. TCP 클라이언트 예제\\n\\n서버에 접속하고 메시지를 보내는 간단한 클라이언트 예시입니다.\\n```python\\nimport socket\\n\\ns = socket.socket(socket.AF_INET, socket.SOCK_STREAM)\\ns.connect((\"서버주소\", 12345))  # (\"hostname\", port)\\ns.sendall(b\"Hello, server!\")\\ndata = s.recv(1024)  # 최대 1024바이트 받기\\nprint(\"Received\", repr(data))\\ns.close()\\n```\\n\\n---\\n\\n### 3. TCP 서버 예제\\n\\n클라이언트의 접속을 기다리고 메시지를 받는 서버 예시입니다.\\n```python\\nimport socket\\n\\nserversocket = socket.socket(socket.AF_INET, socket.SOCK_STREAM)\\nserversocket.bind((\"0.0.0.0\", 12345))  # 모든 네트워크 인터페이스에서 수신\\nserversocket.listen(1)  # 동시에 1개의 연결을 기다림\\n\\nwhile True:\\n    clientsocket, address = serversocket.accept()\\n    print(\"Connection from\", address)\\n    data = clientsocket.recv(1024)\\n    clientsocket.sendall(b\"Hello, client!\")\\n    clientsocket.close()\\n```\\n- `bind`: 서버가 사용할 IP와 포트를 지정\\n- `listen`: 클라이언트 접속 대기\\n- `accept`: 연결 요청이 오면 클라이언트 소켓 반환\\n- `recv`, `sendall`: 데이터 수신/송신\\n- `close`: 소켓 종료\\n\\n---\\n\\n이렇게 파이썬에서 소켓을 만들고, 간단한 클라이언트와 서버를 구현할 수 있습니다.\\n\\n자세한 예시는 파일을 참고하세요:\\n- 클라이언트 예제와 서버 예제 모두 확인 가능: `socket.socket()`, `connect()`, `bind()`, `listen()`, `accept()` 등 기본 함수 사용법 포함.\\n\\n혹시 UDP나 비동기 소켓/멀티스레드 소켓 등이 필요하다면 추가로 설명 가능합니다!', type='output_text', logprobs=None)], role='assistant', status='completed', type='message')], parallel_tool_calls=True, temperature=1.0, tool_choice='required', tools=[FileSearchTool(type='file_search', vector_store_ids=['vs_685cd263b1cc8191b83aea4d339d813c'], filters=None, max_num_results=20, ranking_options=RankingOptions(ranker='auto', score_threshold=0.0))], top_p=1.0, background=False, max_output_tokens=None, previous_response_id=None, prompt=None, reasoning=Reasoning(effort=None, generate_summary=None, summary=None), service_tier='default', status='completed', text=ResponseTextConfig(format=ResponseFormatText(type='text')), truncation='disabled', usage=ResponseUsage(input_tokens=11903, input_tokens_details=InputTokensDetails(cached_tokens=0), output_tokens=627, output_tokens_details=OutputTokensDetails(reasoning_tokens=0), total_tokens=12530), user=None, max_tool_calls=None, store=True)\n"
     ]
    }
   ],
   "source": [
    "#지식 기반이 설정되면, \n",
    "#모델에 사용할 수 있는 도구 목록에 file_search 도구를 포함\n",
    "#검색할 벡터저장소 목록도 함께 포함시킬 수 있음\n",
    "response = client.responses.create(\n",
    "    model='gpt-4.1',\n",
    "    input='파이썬 코드로 소켓 만드는 방법을 간단하게 설명해줘',\n",
    "    tools=[{\n",
    "        \"type\" : \"file_search\",\n",
    "        \"vector_store_ids\" : [vector_store.id]\n",
    "    }],\n",
    "    tool_choice='required'\n",
    ")\n",
    "\n",
    "print(response)"
   ]
  },
  {
   "cell_type": "code",
   "execution_count": 74,
   "id": "8d3dba91",
   "metadata": {},
   "outputs": [
    {
     "name": "stdout",
     "output_type": "stream",
     "text": [
      "{'id': 'resp_685cd264e6fc8199af240ab38f76c5b101978c5833a00910', 'created_at': 1750913636.0, 'error': None, 'incomplete_details': None, 'instructions': None, 'metadata': {}, 'model': 'gpt-4.1-2025-04-14', 'object': 'response', 'output': [ResponseFileSearchToolCall(id='fs_685cd265a400819993dc27cbd0d729e601978c5833a00910', queries=['파이썬 소켓 만드는 방법 간단 설명', '파이썬 소켓 예제 코드', 'socket 모듈 사용법', '파이썬 서버 소켓', '파이썬 클라이언트 소켓'], status='completed', type='file_search_call', results=None), ResponseOutputMessage(id='msg_685cd269df8c8199898c8547e9ed862201978c5833a00910', content=[ResponseOutputText(annotations=[AnnotationFileCitation(file_id='file-UXq4aEbqf5Y72ySkNgVzyV', filename='howto-sockets.pdf', index=1333, type='file_citation'), AnnotationFileCitation(file_id='file-UXq4aEbqf5Y72ySkNgVzyV', filename='howto-sockets.pdf', index=1333, type='file_citation')], text='파이썬에서 소켓을 만드는 방법은 간단합니다. 기본적으로 `socket` 모듈을 사용합니다. 간단한 TCP 클라이언트와 서버 예제도 함께 설명드리겠습니다.\\n\\n---\\n\\n### 1. 소켓 만들기\\n\\n먼저 소켓 객체를 생성합니다.\\n```python\\nimport socket\\ns = socket.socket(socket.AF_INET, socket.SOCK_STREAM)\\n```\\n- `AF_INET`: IPv4(인터넷 주소 패밀리)\\n- `SOCK_STREAM`: TCP 소켓\\n\\n---\\n\\n### 2. TCP 클라이언트 예제\\n\\n서버에 접속하고 메시지를 보내는 간단한 클라이언트 예시입니다.\\n```python\\nimport socket\\n\\ns = socket.socket(socket.AF_INET, socket.SOCK_STREAM)\\ns.connect((\"서버주소\", 12345))  # (\"hostname\", port)\\ns.sendall(b\"Hello, server!\")\\ndata = s.recv(1024)  # 최대 1024바이트 받기\\nprint(\"Received\", repr(data))\\ns.close()\\n```\\n\\n---\\n\\n### 3. TCP 서버 예제\\n\\n클라이언트의 접속을 기다리고 메시지를 받는 서버 예시입니다.\\n```python\\nimport socket\\n\\nserversocket = socket.socket(socket.AF_INET, socket.SOCK_STREAM)\\nserversocket.bind((\"0.0.0.0\", 12345))  # 모든 네트워크 인터페이스에서 수신\\nserversocket.listen(1)  # 동시에 1개의 연결을 기다림\\n\\nwhile True:\\n    clientsocket, address = serversocket.accept()\\n    print(\"Connection from\", address)\\n    data = clientsocket.recv(1024)\\n    clientsocket.sendall(b\"Hello, client!\")\\n    clientsocket.close()\\n```\\n- `bind`: 서버가 사용할 IP와 포트를 지정\\n- `listen`: 클라이언트 접속 대기\\n- `accept`: 연결 요청이 오면 클라이언트 소켓 반환\\n- `recv`, `sendall`: 데이터 수신/송신\\n- `close`: 소켓 종료\\n\\n---\\n\\n이렇게 파이썬에서 소켓을 만들고, 간단한 클라이언트와 서버를 구현할 수 있습니다.\\n\\n자세한 예시는 파일을 참고하세요:\\n- 클라이언트 예제와 서버 예제 모두 확인 가능: `socket.socket()`, `connect()`, `bind()`, `listen()`, `accept()` 등 기본 함수 사용법 포함.\\n\\n혹시 UDP나 비동기 소켓/멀티스레드 소켓 등이 필요하다면 추가로 설명 가능합니다!', type='output_text', logprobs=None)], role='assistant', status='completed', type='message')], 'parallel_tool_calls': True, 'temperature': 1.0, 'tool_choice': 'required', 'tools': [FileSearchTool(type='file_search', vector_store_ids=['vs_685cd263b1cc8191b83aea4d339d813c'], filters=None, max_num_results=20, ranking_options=RankingOptions(ranker='auto', score_threshold=0.0))], 'top_p': 1.0, 'background': False, 'max_output_tokens': None, 'previous_response_id': None, 'prompt': None, 'reasoning': Reasoning(effort=None, generate_summary=None, summary=None), 'service_tier': 'default', 'status': 'completed', 'text': ResponseTextConfig(format=ResponseFormatText(type='text')), 'truncation': 'disabled', 'usage': ResponseUsage(input_tokens=11903, input_tokens_details=InputTokensDetails(cached_tokens=0), output_tokens=627, output_tokens_details=OutputTokensDetails(reasoning_tokens=0), total_tokens=12530), 'user': None, 'max_tool_calls': None, 'store': True}\n"
     ]
    }
   ],
   "source": [
    "print(dict(response))"
   ]
  },
  {
   "cell_type": "code",
   "execution_count": 75,
   "id": "54b8b62e",
   "metadata": {},
   "outputs": [
    {
     "name": "stdout",
     "output_type": "stream",
     "text": [
      "파이썬에서 소켓을 만드는 방법은 간단합니다. 기본적으로 `socket` 모듈을 사용합니다. 간단한 TCP 클라이언트와 서버 예제도 함께 설명드리겠습니다.\n",
      "\n",
      "---\n",
      "\n",
      "### 1. 소켓 만들기\n",
      "\n",
      "먼저 소켓 객체를 생성합니다.\n",
      "```python\n",
      "import socket\n",
      "s = socket.socket(socket.AF_INET, socket.SOCK_STREAM)\n",
      "```\n",
      "- `AF_INET`: IPv4(인터넷 주소 패밀리)\n",
      "- `SOCK_STREAM`: TCP 소켓\n",
      "\n",
      "---\n",
      "\n",
      "### 2. TCP 클라이언트 예제\n",
      "\n",
      "서버에 접속하고 메시지를 보내는 간단한 클라이언트 예시입니다.\n",
      "```python\n",
      "import socket\n",
      "\n",
      "s = socket.socket(socket.AF_INET, socket.SOCK_STREAM)\n",
      "s.connect((\"서버주소\", 12345))  # (\"hostname\", port)\n",
      "s.sendall(b\"Hello, server!\")\n",
      "data = s.recv(1024)  # 최대 1024바이트 받기\n",
      "print(\"Received\", repr(data))\n",
      "s.close()\n",
      "```\n",
      "\n",
      "---\n",
      "\n",
      "### 3. TCP 서버 예제\n",
      "\n",
      "클라이언트의 접속을 기다리고 메시지를 받는 서버 예시입니다.\n",
      "```python\n",
      "import socket\n",
      "\n",
      "serversocket = socket.socket(socket.AF_INET, socket.SOCK_STREAM)\n",
      "serversocket.bind((\"0.0.0.0\", 12345))  # 모든 네트워크 인터페이스에서 수신\n",
      "serversocket.listen(1)  # 동시에 1개의 연결을 기다림\n",
      "\n",
      "while True:\n",
      "    clientsocket, address = serversocket.accept()\n",
      "    print(\"Connection from\", address)\n",
      "    data = clientsocket.recv(1024)\n",
      "    clientsocket.sendall(b\"Hello, client!\")\n",
      "    clientsocket.close()\n",
      "```\n",
      "- `bind`: 서버가 사용할 IP와 포트를 지정\n",
      "- `listen`: 클라이언트 접속 대기\n",
      "- `accept`: 연결 요청이 오면 클라이언트 소켓 반환\n",
      "- `recv`, `sendall`: 데이터 수신/송신\n",
      "- `close`: 소켓 종료\n",
      "\n",
      "---\n",
      "\n",
      "이렇게 파이썬에서 소켓을 만들고, 간단한 클라이언트와 서버를 구현할 수 있습니다.\n",
      "\n",
      "자세한 예시는 파일을 참고하세요:\n",
      "- 클라이언트 예제와 서버 예제 모두 확인 가능: `socket.socket()`, `connect()`, `bind()`, `listen()`, `accept()` 등 기본 함수 사용법 포함.\n",
      "\n",
      "혹시 UDP나 비동기 소켓/멀티스레드 소켓 등이 필요하다면 추가로 설명 가능합니다!\n"
     ]
    }
   ],
   "source": [
    "print(response.output_text)"
   ]
  },
  {
   "cell_type": "code",
   "execution_count": null,
   "id": "1f40ce1e",
   "metadata": {},
   "outputs": [
    {
     "name": "stdout",
     "output_type": "stream",
     "text": [
      "Collecting streamlit\n",
      "  Downloading streamlit-1.46.0-py3-none-any.whl.metadata (9.0 kB)\n",
      "Collecting altair<6,>=4.0 (from streamlit)\n",
      "  Downloading altair-5.5.0-py3-none-any.whl.metadata (11 kB)\n",
      "Collecting blinker<2,>=1.5.0 (from streamlit)\n",
      "  Downloading blinker-1.9.0-py3-none-any.whl.metadata (1.6 kB)\n",
      "Collecting cachetools<7,>=4.0 (from streamlit)\n",
      "  Downloading cachetools-6.1.0-py3-none-any.whl.metadata (5.4 kB)\n",
      "Collecting click<9,>=7.0 (from streamlit)\n",
      "  Downloading click-8.1.8-py3-none-any.whl.metadata (2.3 kB)\n",
      "Requirement already satisfied: numpy<3,>=1.23 in c:\\users\\choyk\\documents\\github\\tensor_proj\\.venv\\lib\\site-packages (from streamlit) (2.0.2)\n",
      "Requirement already satisfied: packaging<26,>=20 in c:\\users\\choyk\\documents\\github\\tensor_proj\\.venv\\lib\\site-packages (from streamlit) (25.0)\n",
      "Requirement already satisfied: pandas<3,>=1.4.0 in c:\\users\\choyk\\documents\\github\\tensor_proj\\.venv\\lib\\site-packages (from streamlit) (2.3.0)\n",
      "Requirement already satisfied: pillow<12,>=7.1.0 in c:\\users\\choyk\\documents\\github\\tensor_proj\\.venv\\lib\\site-packages (from streamlit) (11.2.1)\n",
      "Requirement already satisfied: protobuf<7,>=3.20 in c:\\users\\choyk\\documents\\github\\tensor_proj\\.venv\\lib\\site-packages (from streamlit) (5.29.5)\n",
      "Collecting pyarrow>=7.0 (from streamlit)\n",
      "  Downloading pyarrow-20.0.0-cp39-cp39-win_amd64.whl.metadata (3.4 kB)\n",
      "Requirement already satisfied: requests<3,>=2.27 in c:\\users\\choyk\\documents\\github\\tensor_proj\\.venv\\lib\\site-packages (from streamlit) (2.32.4)\n",
      "Collecting tenacity<10,>=8.1.0 (from streamlit)\n",
      "  Downloading tenacity-9.1.2-py3-none-any.whl.metadata (1.2 kB)\n",
      "Collecting toml<2,>=0.10.1 (from streamlit)\n",
      "  Downloading toml-0.10.2-py2.py3-none-any.whl.metadata (7.1 kB)\n",
      "Requirement already satisfied: typing-extensions<5,>=4.4.0 in c:\\users\\choyk\\documents\\github\\tensor_proj\\.venv\\lib\\site-packages (from streamlit) (4.14.0)\n",
      "Collecting watchdog<7,>=2.1.5 (from streamlit)\n",
      "  Downloading watchdog-6.0.0-py3-none-win_amd64.whl.metadata (44 kB)\n",
      "Collecting gitpython!=3.1.19,<4,>=3.0.7 (from streamlit)\n",
      "  Downloading GitPython-3.1.44-py3-none-any.whl.metadata (13 kB)\n",
      "Collecting pydeck<1,>=0.8.0b4 (from streamlit)\n",
      "  Downloading pydeck-0.9.1-py2.py3-none-any.whl.metadata (4.1 kB)\n",
      "Requirement already satisfied: tornado!=6.5.0,<7,>=6.0.3 in c:\\users\\choyk\\documents\\github\\tensor_proj\\.venv\\lib\\site-packages (from streamlit) (6.5.1)\n",
      "Collecting jinja2 (from altair<6,>=4.0->streamlit)\n",
      "  Downloading jinja2-3.1.6-py3-none-any.whl.metadata (2.9 kB)\n",
      "Collecting jsonschema>=3.0 (from altair<6,>=4.0->streamlit)\n",
      "  Downloading jsonschema-4.24.0-py3-none-any.whl.metadata (7.8 kB)\n",
      "Collecting narwhals>=1.14.2 (from altair<6,>=4.0->streamlit)\n",
      "  Downloading narwhals-1.44.0-py3-none-any.whl.metadata (11 kB)\n",
      "Requirement already satisfied: colorama in c:\\users\\choyk\\documents\\github\\tensor_proj\\.venv\\lib\\site-packages (from click<9,>=7.0->streamlit) (0.4.6)\n",
      "Collecting gitdb<5,>=4.0.1 (from gitpython!=3.1.19,<4,>=3.0.7->streamlit)\n",
      "  Downloading gitdb-4.0.12-py3-none-any.whl.metadata (1.2 kB)\n",
      "Collecting smmap<6,>=3.0.1 (from gitdb<5,>=4.0.1->gitpython!=3.1.19,<4,>=3.0.7->streamlit)\n",
      "  Downloading smmap-5.0.2-py3-none-any.whl.metadata (4.3 kB)\n",
      "Requirement already satisfied: python-dateutil>=2.8.2 in c:\\users\\choyk\\documents\\github\\tensor_proj\\.venv\\lib\\site-packages (from pandas<3,>=1.4.0->streamlit) (2.9.0.post0)\n",
      "Requirement already satisfied: pytz>=2020.1 in c:\\users\\choyk\\documents\\github\\tensor_proj\\.venv\\lib\\site-packages (from pandas<3,>=1.4.0->streamlit) (2025.2)\n",
      "Requirement already satisfied: tzdata>=2022.7 in c:\\users\\choyk\\documents\\github\\tensor_proj\\.venv\\lib\\site-packages (from pandas<3,>=1.4.0->streamlit) (2025.2)\n",
      "Requirement already satisfied: charset_normalizer<4,>=2 in c:\\users\\choyk\\documents\\github\\tensor_proj\\.venv\\lib\\site-packages (from requests<3,>=2.27->streamlit) (3.4.2)\n",
      "Requirement already satisfied: idna<4,>=2.5 in c:\\users\\choyk\\documents\\github\\tensor_proj\\.venv\\lib\\site-packages (from requests<3,>=2.27->streamlit) (3.10)\n",
      "Requirement already satisfied: urllib3<3,>=1.21.1 in c:\\users\\choyk\\documents\\github\\tensor_proj\\.venv\\lib\\site-packages (from requests<3,>=2.27->streamlit) (2.5.0)\n",
      "Requirement already satisfied: certifi>=2017.4.17 in c:\\users\\choyk\\documents\\github\\tensor_proj\\.venv\\lib\\site-packages (from requests<3,>=2.27->streamlit) (2025.6.15)\n",
      "Requirement already satisfied: MarkupSafe>=2.0 in c:\\users\\choyk\\documents\\github\\tensor_proj\\.venv\\lib\\site-packages (from jinja2->altair<6,>=4.0->streamlit) (3.0.2)\n",
      "Collecting attrs>=22.2.0 (from jsonschema>=3.0->altair<6,>=4.0->streamlit)\n",
      "  Using cached attrs-25.3.0-py3-none-any.whl.metadata (10 kB)\n",
      "Collecting jsonschema-specifications>=2023.03.6 (from jsonschema>=3.0->altair<6,>=4.0->streamlit)\n",
      "  Downloading jsonschema_specifications-2025.4.1-py3-none-any.whl.metadata (2.9 kB)\n",
      "Collecting referencing>=0.28.4 (from jsonschema>=3.0->altair<6,>=4.0->streamlit)\n",
      "  Downloading referencing-0.36.2-py3-none-any.whl.metadata (2.8 kB)\n",
      "Collecting rpds-py>=0.7.1 (from jsonschema>=3.0->altair<6,>=4.0->streamlit)\n",
      "  Downloading rpds_py-0.25.1-cp39-cp39-win_amd64.whl.metadata (4.2 kB)\n",
      "Requirement already satisfied: six>=1.5 in c:\\users\\choyk\\documents\\github\\tensor_proj\\.venv\\lib\\site-packages (from python-dateutil>=2.8.2->pandas<3,>=1.4.0->streamlit) (1.17.0)\n",
      "Downloading streamlit-1.46.0-py3-none-any.whl (10.1 MB)\n",
      "   ---------------------------------------- 0.0/10.1 MB ? eta -:--:--\n",
      "   ---------------------------------------  10.0/10.1 MB 61.8 MB/s eta 0:00:01\n",
      "   ---------------------------------------- 10.1/10.1 MB 36.8 MB/s eta 0:00:00\n",
      "Downloading altair-5.5.0-py3-none-any.whl (731 kB)\n",
      "   ---------------------------------------- 0.0/731.2 kB ? eta -:--:--\n",
      "   --------------------------------------- 731.2/731.2 kB 29.3 MB/s eta 0:00:00\n",
      "Downloading blinker-1.9.0-py3-none-any.whl (8.5 kB)\n",
      "Downloading cachetools-6.1.0-py3-none-any.whl (11 kB)\n",
      "Downloading click-8.1.8-py3-none-any.whl (98 kB)\n",
      "Downloading GitPython-3.1.44-py3-none-any.whl (207 kB)\n",
      "Downloading gitdb-4.0.12-py3-none-any.whl (62 kB)\n",
      "Downloading pydeck-0.9.1-py2.py3-none-any.whl (6.9 MB)\n",
      "   ---------------------------------------- 0.0/6.9 MB ? eta -:--:--\n",
      "   ---------------------------------------- 6.9/6.9 MB 42.6 MB/s eta 0:00:00\n",
      "Downloading smmap-5.0.2-py3-none-any.whl (24 kB)\n",
      "Downloading tenacity-9.1.2-py3-none-any.whl (28 kB)\n",
      "Downloading toml-0.10.2-py2.py3-none-any.whl (16 kB)\n",
      "Downloading watchdog-6.0.0-py3-none-win_amd64.whl (79 kB)\n",
      "Downloading jinja2-3.1.6-py3-none-any.whl (134 kB)\n",
      "Downloading jsonschema-4.24.0-py3-none-any.whl (88 kB)\n",
      "Using cached attrs-25.3.0-py3-none-any.whl (63 kB)\n",
      "Downloading jsonschema_specifications-2025.4.1-py3-none-any.whl (18 kB)\n",
      "Downloading narwhals-1.44.0-py3-none-any.whl (365 kB)\n",
      "Downloading pyarrow-20.0.0-cp39-cp39-win_amd64.whl (25.8 MB)\n",
      "   ---------------------------------------- 0.0/25.8 MB ? eta -:--:--\n",
      "   ----------------- ---------------------- 11.3/25.8 MB 54.2 MB/s eta 0:00:01\n",
      "   ------------------------------------ --- 23.6/25.8 MB 57.5 MB/s eta 0:00:01\n",
      "   ---------------------------------------- 25.8/25.8 MB 49.6 MB/s eta 0:00:00\n",
      "Downloading referencing-0.36.2-py3-none-any.whl (26 kB)\n",
      "Downloading rpds_py-0.25.1-cp39-cp39-win_amd64.whl (231 kB)\n",
      "Installing collected packages: watchdog, toml, tenacity, smmap, rpds-py, pyarrow, narwhals, jinja2, click, cachetools, blinker, attrs, referencing, pydeck, gitdb, jsonschema-specifications, gitpython, jsonschema, altair, streamlit\n",
      "\n",
      "   ----------------------------------------  0/20 [watchdog]\n",
      "   ----------------------------------------  0/20 [watchdog]\n",
      "   ---- -----------------------------------  2/20 [tenacity]\n",
      "   ------ ---------------------------------  3/20 [smmap]\n",
      "   ---------- -----------------------------  5/20 [pyarrow]\n",
      "   ---------- -----------------------------  5/20 [pyarrow]\n",
      "   ---------- -----------------------------  5/20 [pyarrow]\n",
      "   ---------- -----------------------------  5/20 [pyarrow]\n",
      "   ---------- -----------------------------  5/20 [pyarrow]\n",
      "   ---------- -----------------------------  5/20 [pyarrow]\n",
      "   ---------- -----------------------------  5/20 [pyarrow]\n",
      "   ---------- -----------------------------  5/20 [pyarrow]\n",
      "   ---------- -----------------------------  5/20 [pyarrow]\n",
      "   ---------- -----------------------------  5/20 [pyarrow]\n",
      "   ---------- -----------------------------  5/20 [pyarrow]\n",
      "   ---------- -----------------------------  5/20 [pyarrow]\n",
      "   ---------- -----------------------------  5/20 [pyarrow]\n",
      "   ---------- -----------------------------  5/20 [pyarrow]\n",
      "   ------------ ---------------------------  6/20 [narwhals]\n",
      "   ------------ ---------------------------  6/20 [narwhals]\n",
      "   ------------ ---------------------------  6/20 [narwhals]\n",
      "   ------------ ---------------------------  6/20 [narwhals]\n",
      "   ------------ ---------------------------  6/20 [narwhals]\n",
      "   ------------ ---------------------------  6/20 [narwhals]\n",
      "   ------------ ---------------------------  6/20 [narwhals]\n",
      "   ------------ ---------------------------  6/20 [narwhals]\n",
      "   ------------ ---------------------------  6/20 [narwhals]\n",
      "   ------------ ---------------------------  6/20 [narwhals]\n",
      "   ------------ ---------------------------  6/20 [narwhals]\n",
      "   -------------- -------------------------  7/20 [jinja2]\n",
      "   -------------- -------------------------  7/20 [jinja2]\n",
      "   ---------------- -----------------------  8/20 [click]\n",
      "   -------------------- ------------------- 10/20 [blinker]\n",
      "   ---------------------- ----------------- 11/20 [attrs]\n",
      "   ------------------------ --------------- 12/20 [referencing]\n",
      "   -------------------------- ------------- 13/20 [pydeck]\n",
      "   -------------------------- ------------- 13/20 [pydeck]\n",
      "   ---------------------------- ----------- 14/20 [gitdb]\n",
      "   ---------------------------- ----------- 14/20 [gitdb]\n",
      "   -------------------------------- ------- 16/20 [gitpython]\n",
      "   -------------------------------- ------- 16/20 [gitpython]\n",
      "   -------------------------------- ------- 16/20 [gitpython]\n",
      "   ---------------------------------- ----- 17/20 [jsonschema]\n",
      "   ---------------------------------- ----- 17/20 [jsonschema]\n",
      "   ---------------------------------- ----- 17/20 [jsonschema]\n",
      "   ------------------------------------ --- 18/20 [altair]\n",
      "   ------------------------------------ --- 18/20 [altair]\n",
      "   ------------------------------------ --- 18/20 [altair]\n",
      "   ------------------------------------ --- 18/20 [altair]\n",
      "   -------------------------------------- - 19/20 [streamlit]\n",
      "   -------------------------------------- - 19/20 [streamlit]\n",
      "   -------------------------------------- - 19/20 [streamlit]\n",
      "   -------------------------------------- - 19/20 [streamlit]\n",
      "   -------------------------------------- - 19/20 [streamlit]\n",
      "   -------------------------------------- - 19/20 [streamlit]\n",
      "   -------------------------------------- - 19/20 [streamlit]\n",
      "   -------------------------------------- - 19/20 [streamlit]\n",
      "   -------------------------------------- - 19/20 [streamlit]\n",
      "   -------------------------------------- - 19/20 [streamlit]\n",
      "   -------------------------------------- - 19/20 [streamlit]\n",
      "   -------------------------------------- - 19/20 [streamlit]\n",
      "   -------------------------------------- - 19/20 [streamlit]\n",
      "   -------------------------------------- - 19/20 [streamlit]\n",
      "   -------------------------------------- - 19/20 [streamlit]\n",
      "   -------------------------------------- - 19/20 [streamlit]\n",
      "   -------------------------------------- - 19/20 [streamlit]\n",
      "   -------------------------------------- - 19/20 [streamlit]\n",
      "   -------------------------------------- - 19/20 [streamlit]\n",
      "   -------------------------------------- - 19/20 [streamlit]\n",
      "   -------------------------------------- - 19/20 [streamlit]\n",
      "   -------------------------------------- - 19/20 [streamlit]\n",
      "   -------------------------------------- - 19/20 [streamlit]\n",
      "   -------------------------------------- - 19/20 [streamlit]\n",
      "   ---------------------------------------- 20/20 [streamlit]\n",
      "\n",
      "Successfully installed altair-5.5.0 attrs-25.3.0 blinker-1.9.0 cachetools-6.1.0 click-8.1.8 gitdb-4.0.12 gitpython-3.1.44 jinja2-3.1.6 jsonschema-4.24.0 jsonschema-specifications-2025.4.1 narwhals-1.44.0 pyarrow-20.0.0 pydeck-0.9.1 referencing-0.36.2 rpds-py-0.25.1 smmap-5.0.2 streamlit-1.46.0 tenacity-9.1.2 toml-0.10.2 watchdog-6.0.0\n",
      "Note: you may need to restart the kernel to use updated packages.\n"
     ]
    }
   ],
   "source": [
    "#pip install streamlit"
   ]
  },
  {
   "cell_type": "code",
   "execution_count": null,
   "id": "8f81faf1",
   "metadata": {},
   "outputs": [
    {
     "name": "stdout",
     "output_type": "stream",
     "text": [
      "Collecting beautifulsoup4\n",
      "  Using cached beautifulsoup4-4.13.4-py3-none-any.whl.metadata (3.8 kB)\n",
      "Collecting soupsieve>1.2 (from beautifulsoup4)\n",
      "  Using cached soupsieve-2.7-py3-none-any.whl.metadata (4.6 kB)\n",
      "Requirement already satisfied: typing-extensions>=4.0.0 in c:\\users\\choyk\\documents\\github\\tensor_proj\\.venv\\lib\\site-packages (from beautifulsoup4) (4.14.0)\n",
      "Using cached beautifulsoup4-4.13.4-py3-none-any.whl (187 kB)\n",
      "Using cached soupsieve-2.7-py3-none-any.whl (36 kB)\n",
      "Installing collected packages: soupsieve, beautifulsoup4\n",
      "\n",
      "   -------------------- ------------------- 1/2 [beautifulsoup4]\n",
      "   -------------------- ------------------- 1/2 [beautifulsoup4]\n",
      "   -------------------- ------------------- 1/2 [beautifulsoup4]\n",
      "   ---------------------------------------- 2/2 [beautifulsoup4]\n",
      "\n",
      "Successfully installed beautifulsoup4-4.13.4 soupsieve-2.7\n",
      "Note: you may need to restart the kernel to use updated packages.\n"
     ]
    }
   ],
   "source": [
    "#pip install beautifulsoup4"
   ]
  },
  {
   "cell_type": "code",
   "execution_count": null,
   "id": "500e19d9",
   "metadata": {},
   "outputs": [],
   "source": []
  }
 ],
 "metadata": {
  "kernelspec": {
   "display_name": ".venv",
   "language": "python",
   "name": "python3"
  },
  "language_info": {
   "codemirror_mode": {
    "name": "ipython",
    "version": 3
   },
   "file_extension": ".py",
   "mimetype": "text/x-python",
   "name": "python",
   "nbconvert_exporter": "python",
   "pygments_lexer": "ipython3",
   "version": "3.9.13"
  }
 },
 "nbformat": 4,
 "nbformat_minor": 5
}
