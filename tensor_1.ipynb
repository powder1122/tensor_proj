{
 "cells": [
  {
   "cell_type": "markdown",
   "id": "33b0a8f8",
   "metadata": {},
   "source": [
    "### 라이브러리 설치"
   ]
  },
  {
   "cell_type": "code",
   "execution_count": 33,
   "id": "fdabb283",
   "metadata": {},
   "outputs": [],
   "source": [
    "#print(111)"
   ]
  },
  {
   "cell_type": "code",
   "execution_count": 34,
   "id": "7394016d",
   "metadata": {},
   "outputs": [],
   "source": [
    "#pip install pandas"
   ]
  },
  {
   "cell_type": "code",
   "execution_count": 35,
   "id": "9c4af678",
   "metadata": {},
   "outputs": [],
   "source": [
    "#pip install tensorflow"
   ]
  },
  {
   "cell_type": "code",
   "execution_count": 36,
   "id": "786570d8",
   "metadata": {},
   "outputs": [],
   "source": [
    "#pip install scikit-learn"
   ]
  },
  {
   "cell_type": "code",
   "execution_count": 37,
   "id": "1f33c17d",
   "metadata": {},
   "outputs": [],
   "source": [
    "#pip install keras"
   ]
  },
  {
   "cell_type": "markdown",
   "id": "40522fc6",
   "metadata": {},
   "source": [
    "### 간단한 신경망 모델을 구성하고 훈련하는 예제"
   ]
  },
  {
   "cell_type": "code",
   "execution_count": 38,
   "id": "e8fce26d",
   "metadata": {},
   "outputs": [],
   "source": [
    "#간단한 신경망 모델을 구성하고 훈련하는 예제\n",
    "# 1. 필요한 라이브러리 임포트\n",
    "# TensorFlow와 Keras의 기능을 사용하기 위해 필요한 모듈을 불러옵니다.\n",
    "import numpy as np\n",
    "from tensorflow.keras.models import Sequential # 순차적 모델을 생성하기 위한 모듈\n",
    "from tensorflow.keras.layers import Dense # 밀집층(fully connected layer)을 추가하기 위한 모듈\n",
    "from sklearn.model_selection import train_test_split # 데이터를 학습/테스트 세트로 나누기 위한 모듈\n",
    "from sklearn.datasets import make_classification # 예제 데이터셋 생성 모듈"
   ]
  },
  {
   "cell_type": "code",
   "execution_count": 39,
   "id": "d2c8c266",
   "metadata": {},
   "outputs": [],
   "source": [
    "# 2. 데이터 생성 및 전처리\n",
    "# 예제용으로 가상 데이터셋을 생성합니다.\n",
    "X, y = make_classification(\n",
    "    n_samples=1000, # 데이터 샘플 수\n",
    "    n_features=20, # 특징(특성) 수\n",
    "    n_classes=2, # 클래스 수 (이진 분류)\n",
    "    random_state=42 # 랜덤 시드 고정 (결과 재현 가능성 보장)\n",
    ")\n",
    "# 데이터를 학습용(train)과 테스트용(test)으로 나눕니다.\n",
    "X_train, X_test, y_train, y_test = train_test_split(X, y, test_size=0.2, random_state=42)"
   ]
  },
  {
   "cell_type": "markdown",
   "id": "93a587b1",
   "metadata": {},
   "source": [
    "- n_samples를 늘리면 데이터가 많아져 모델이 더 잘 학습할 수 있습니다.\n",
    "- n_features를 늘리면 입력 데이터가 복잡해집니다.\n",
    "- test_size를 0.3 등으로 바꾸면 테스트 데이터 비율이 달라집니다."
   ]
  },
  {
   "cell_type": "code",
   "execution_count": 40,
   "id": "09d59274",
   "metadata": {},
   "outputs": [
    {
     "name": "stderr",
     "output_type": "stream",
     "text": [
      "c:\\Users\\choyk\\Documents\\GitHub\\tensor_proj\\.venv\\lib\\site-packages\\keras\\src\\layers\\core\\dense.py:93: UserWarning: Do not pass an `input_shape`/`input_dim` argument to a layer. When using Sequential models, prefer using an `Input(shape)` object as the first layer in the model instead.\n",
      "  super().__init__(activity_regularizer=activity_regularizer, **kwargs)\n"
     ]
    }
   ],
   "source": [
    "# 3. 모델 생성\n",
    "# Sequential()은 모델을 레이어 순서대로 구성할 수 있도록 해줍니다.\n",
    "model = Sequential([\n",
    "    Dense(16, activation='relu', input_shape=(X_train.shape[1],)), # 첫 번째 은닉층\n",
    "    Dense(8, activation='relu'), # 두 번째 은닉층\n",
    "    Dense(1, activation='sigmoid') # 출력층 (이진 분류에서 사용)\n",
    "])\n",
    "# 여기서 `input_shape`는 입력 데이터의 차원을 지정합니다.(Dense 안쪽에 사용)\n",
    "# `activation`은 각 층에서 사용할 활성화 함수입니다.\n",
    "# - relu: 0보다 큰 값은 그대로 두고, 작은 값은 0으로 설정 (비선형성 제공)\n",
    "# - sigmoid: 출력값을 0과 1 사이로 제한 (이진 분류에서 확률 계산에 유용)\n",
    "# Dense 바로 뒤에 오는 수는 뉴런 개수로, 일반적으로 2의 n승 형태가 좋다."
   ]
  },
  {
   "cell_type": "markdown",
   "id": "b146c49c",
   "metadata": {},
   "source": [
    "- 역할:\n",
    "    - Sequential로 레이어를 순차적으로 쌓는 신경망 모델을 만듭니다.\n",
    "    - 첫 번째 레이어는 16개의 뉴런, 두 번째는 8개, 마지막은 1개(이진 분류)입니다.\n",
    "    - relu는 비선형성을, sigmoid는 확률 출력을 제공합니다.\n",
    "\n",
    "- 수정 시:\n",
    "    - 뉴런 수를 늘리면 모델이 더 복잡해져 더 많은 패턴을 학습할 수 있지만, 과적합 위험도 커집니다.\n",
    "    - 레이어를 추가하면 더 깊은 신경망이 됩니다.\n",
    "    - activation을 tanh 등으로 바꾸면 학습 특성이 달라집니다"
   ]
  },
  {
   "cell_type": "code",
   "execution_count": 41,
   "id": "203a7515",
   "metadata": {},
   "outputs": [],
   "source": [
    "# 4. 모델 컴파일\n",
    "# 모델 학습 전에 학습 방법(optimizer), 손실 함수(loss), 평가 지표(metrics)를 정의합니다.\n",
    "model.compile(\n",
    "    optimizer='adam', # 학습 속도를 조정하며 손실 함수의 최솟값을 찾습니다.\n",
    "    loss='binary_crossentropy', # 이진 분류에서 자주 사용되는 손실 함수\n",
    "    metrics=['accuracy'] # 학습 성과를 평가할 지표\n",
    ")"
   ]
  },
  {
   "cell_type": "markdown",
   "id": "d1bdd7d8",
   "metadata": {},
   "source": [
    "- 역할:\n",
    "    - 학습 방법(optimizer), 손실 함수(loss), 평가 지표(metrics)를 지정합니다.\n",
    "    - adam은 빠르고 안정적인 최적화 방법입니다.\n",
    "    - binary_crossentropy는 이진 분류에 적합한 손실 함수입니다.\n",
    "\n",
    "- 수정 시:\n",
    "    - optimizer를 sgd 등으로 바꾸면 학습 속도나 결과가 달라집니다.\n",
    "    - loss를 mean_squared_error 등으로 바꾸면 분류 문제에 적합하지 않을 수 있습니다."
   ]
  },
  {
   "cell_type": "code",
   "execution_count": 42,
   "id": "3a54cb34",
   "metadata": {},
   "outputs": [
    {
     "name": "stdout",
     "output_type": "stream",
     "text": [
      "Epoch 1/10\n",
      "\u001b[1m20/20\u001b[0m \u001b[32m━━━━━━━━━━━━━━━━━━━━\u001b[0m\u001b[37m\u001b[0m \u001b[1m1s\u001b[0m 10ms/step - accuracy: 0.4482 - loss: 0.7903 - val_accuracy: 0.5938 - val_loss: 0.6996\n",
      "Epoch 2/10\n",
      "\u001b[1m20/20\u001b[0m \u001b[32m━━━━━━━━━━━━━━━━━━━━\u001b[0m\u001b[37m\u001b[0m \u001b[1m0s\u001b[0m 4ms/step - accuracy: 0.5048 - loss: 0.7310 - val_accuracy: 0.6187 - val_loss: 0.6459\n",
      "Epoch 3/10\n",
      "\u001b[1m20/20\u001b[0m \u001b[32m━━━━━━━━━━━━━━━━━━━━\u001b[0m\u001b[37m\u001b[0m \u001b[1m0s\u001b[0m 4ms/step - accuracy: 0.6074 - loss: 0.6388 - val_accuracy: 0.6500 - val_loss: 0.6060\n",
      "Epoch 4/10\n",
      "\u001b[1m20/20\u001b[0m \u001b[32m━━━━━━━━━━━━━━━━━━━━\u001b[0m\u001b[37m\u001b[0m \u001b[1m0s\u001b[0m 3ms/step - accuracy: 0.6724 - loss: 0.6025 - val_accuracy: 0.7125 - val_loss: 0.5706\n",
      "Epoch 5/10\n",
      "\u001b[1m20/20\u001b[0m \u001b[32m━━━━━━━━━━━━━━━━━━━━\u001b[0m\u001b[37m\u001b[0m \u001b[1m0s\u001b[0m 3ms/step - accuracy: 0.6977 - loss: 0.5723 - val_accuracy: 0.7375 - val_loss: 0.5392\n",
      "Epoch 6/10\n",
      "\u001b[1m20/20\u001b[0m \u001b[32m━━━━━━━━━━━━━━━━━━━━\u001b[0m\u001b[37m\u001b[0m \u001b[1m0s\u001b[0m 4ms/step - accuracy: 0.7369 - loss: 0.5539 - val_accuracy: 0.7688 - val_loss: 0.5100\n",
      "Epoch 7/10\n",
      "\u001b[1m20/20\u001b[0m \u001b[32m━━━━━━━━━━━━━━━━━━━━\u001b[0m\u001b[37m\u001b[0m \u001b[1m0s\u001b[0m 4ms/step - accuracy: 0.7792 - loss: 0.5262 - val_accuracy: 0.7875 - val_loss: 0.4843\n",
      "Epoch 8/10\n",
      "\u001b[1m20/20\u001b[0m \u001b[32m━━━━━━━━━━━━━━━━━━━━\u001b[0m\u001b[37m\u001b[0m \u001b[1m0s\u001b[0m 4ms/step - accuracy: 0.8288 - loss: 0.4684 - val_accuracy: 0.8062 - val_loss: 0.4566\n",
      "Epoch 9/10\n",
      "\u001b[1m20/20\u001b[0m \u001b[32m━━━━━━━━━━━━━━━━━━━━\u001b[0m\u001b[37m\u001b[0m \u001b[1m0s\u001b[0m 4ms/step - accuracy: 0.8286 - loss: 0.4659 - val_accuracy: 0.8250 - val_loss: 0.4333\n",
      "Epoch 10/10\n",
      "\u001b[1m20/20\u001b[0m \u001b[32m━━━━━━━━━━━━━━━━━━━━\u001b[0m\u001b[37m\u001b[0m \u001b[1m0s\u001b[0m 4ms/step - accuracy: 0.8406 - loss: 0.4219 - val_accuracy: 0.8250 - val_loss: 0.4105\n"
     ]
    }
   ],
   "source": [
    "# 5. 모델 훈련\n",
    "# fit() 메서드는 모델을 학습시키는 역할을 합니다.\n",
    "history = model.fit(\n",
    "    X_train, y_train, # 학습용 데이터와 레이블\n",
    "    validation_split=0.2, # 검증 데이터 비율 (학습 데이터의 20%)\n",
    "    epochs=10, # 학습 반복 횟수\n",
    "    batch_size=32, # 한 번의 학습에서 사용하는 데이터 샘플 수\n",
    "    verbose=1 # 학습 진행 상태를 출력\n",
    ")"
   ]
  },
  {
   "cell_type": "markdown",
   "id": "8138594d",
   "metadata": {},
   "source": [
    "- 역할:\n",
    "    - 모델을 학습시키는 단계입니다.\n",
    "    - 학습 데이터의 20%를 검증용으로 사용합니다.\n",
    "    - 10번 반복(epochs)하며, 한 번에 32개씩 데이터를 처리합니다.\n",
    "\n",
    "- 수정 시:\n",
    "    - epochs를 늘리면 더 오래 학습하지만, 과적합 위험이 있습니다.\n",
    "    - batch_size를 줄이면 더 세밀하게 학습하지만 시간이 오래 걸립니다.(낮은 값을 사용하면 일반화를 더 도와줄 수 있다!)\n",
    "    - validation_split을 조정하면 검증 데이터 비율이 바뀝니다."
   ]
  },
  {
   "cell_type": "code",
   "execution_count": 43,
   "id": "046b57ad",
   "metadata": {},
   "outputs": [
    {
     "name": "stdout",
     "output_type": "stream",
     "text": [
      "\u001b[1m7/7\u001b[0m \u001b[32m━━━━━━━━━━━━━━━━━━━━\u001b[0m\u001b[37m\u001b[0m \u001b[1m0s\u001b[0m 5ms/step - accuracy: 0.7847 - loss: 0.4760  \n",
      "테스트 손실: 0.4455, 테스트 정확도: 0.8150\n",
      "WARNING:tensorflow:6 out of the last 6 calls to <function TensorFlowTrainer.make_predict_function.<locals>.one_step_on_data_distributed at 0x00000173C60269D0> triggered tf.function retracing. Tracing is expensive and the excessive number of tracings could be due to (1) creating @tf.function repeatedly in a loop, (2) passing tensors with different shapes, (3) passing Python objects instead of tensors. For (1), please define your @tf.function outside of the loop. For (2), @tf.function has reduce_retracing=True option that can avoid unnecessary retracing. For (3), please refer to https://www.tensorflow.org/guide/function#controlling_retracing and https://www.tensorflow.org/api_docs/python/tf/function for  more details.\n",
      "\u001b[1m1/1\u001b[0m \u001b[32m━━━━━━━━━━━━━━━━━━━━\u001b[0m\u001b[37m\u001b[0m \u001b[1m0s\u001b[0m 58ms/step\n",
      "예측 결과: [[0.43662146]\n",
      " [0.55498487]\n",
      " [0.6608596 ]\n",
      " [0.7444078 ]\n",
      " [0.8092891 ]]\n"
     ]
    }
   ],
   "source": [
    "# 6. 모델 평가\n",
    "# 테스트 데이터로 학습된 모델을 평가합니다.\n",
    "test_loss, test_accuracy = model.evaluate(X_test, y_test)\n",
    "print(f\"테스트 손실: {test_loss:.4f}, 테스트 정확도: {test_accuracy:.4f}\")\n",
    "\n",
    "# 7. 모델 예측\n",
    "# 학습된 모델을 사용해 새로운 데이터 예측\n",
    "predictions = model.predict(X_test[:5]) # 테스트 데이터 중 5개의 샘플 예측\n",
    "print(\"예측 결과:\", predictions)\n",
    "\n",
    "# 여기서 predictions의 출력은 확률 값입니다.\n",
    "# 일반적으로 0.5 이상은 클래스 1, 미만은 클래스 0으로 간주합니다."
   ]
  },
  {
   "cell_type": "markdown",
   "id": "34318a9b",
   "metadata": {},
   "source": [
    "- 역할:\n",
    "    - 테스트 데이터 중 5개 샘플에 대해 예측(확률값)을 출력합니다.\n",
    "    - 0.5 이상이면 클래스 1, 미만이면 클래스 0으로 간주합니다.\n",
    "\n",
    "- 수정 시:\n",
    "    - X_test[:5]를 바꾸면 다른 샘플에 대한 예측을 볼 수 있습니다.\n",
    "    - 임계값(0.5)을 조정하면 분류 기준이 달라집니다."
   ]
  },
  {
   "cell_type": "markdown",
   "id": "a53c333c",
   "metadata": {},
   "source": [
    "### 이진 분류 문제 해결"
   ]
  },
  {
   "cell_type": "code",
   "execution_count": 44,
   "id": "048f3243",
   "metadata": {},
   "outputs": [],
   "source": [
    "import numpy as np\n",
    "import tensorflow as tf\n",
    "from sklearn.model_selection import train_test_split\n",
    "from sklearn.preprocessing import StandardScaler\n",
    "from sklearn.metrics import classification_report"
   ]
  },
  {
   "cell_type": "code",
   "execution_count": 57,
   "id": "b6f041bd",
   "metadata": {},
   "outputs": [],
   "source": [
    "# 1. 데이터 준비\n",
    "# 예제 데이터 생성 (여기서는 임의로 데이터를 생성합니다. 실제 데이터로 교체 가능)\n",
    "from sklearn.datasets import make_classification\n",
    "X, y = make_classification(n_samples=1000, \n",
    "                           n_features=20, \n",
    "                           n_informative=15,\n",
    "                           n_redundant=5, \n",
    "                           random_state=42)\n"
   ]
  },
  {
   "cell_type": "code",
   "execution_count": 58,
   "id": "21f41172",
   "metadata": {},
   "outputs": [],
   "source": [
    "# 데이터 분할: 훈련, 검증, 테스트 데이터셋 70:15:15\n",
    "X_train, X_temp, y_train, y_temp = train_test_split(X, \n",
    "                                                    y, \n",
    "                                                    test_size=0.3,\n",
    "                                                    random_state=42)  # 7:3\n",
    "#3을 5:5로 분할\n",
    "X_val, X_test, y_val, y_test = train_test_split(X_temp, \n",
    "                                                y_temp,\n",
    "                                                test_size=0.5, random_state=42) \n"
   ]
  },
  {
   "cell_type": "code",
   "execution_count": 59,
   "id": "0f6620d1",
   "metadata": {},
   "outputs": [],
   "source": [
    "# 데이터 정규화 (특성 스케일링)\n",
    "scaler = StandardScaler()\n",
    "X_train = scaler.fit_transform(X_train)\n",
    "X_val = scaler.transform(X_val)\n",
    "X_test = scaler.transform(X_test)"
   ]
  },
  {
   "cell_type": "code",
   "execution_count": 60,
   "id": "07dbb436",
   "metadata": {},
   "outputs": [],
   "source": [
    "# 2. 모델 설계\n",
    "# 입력층, 은닉층, 출력층으로 구성된 이진 분류 모델\n",
    "model = tf.keras.Sequential([\n",
    "    tf.keras.layers.Input(shape=(X_train.shape[1],)), # 입력층\n",
    "    \n",
    "    tf.keras.layers.Dense(64, activation='relu'), # 첫 번째 은닉층.\n",
    "\n",
    "    tf.keras.layers.Dropout(0.5), # 과적합 방지를 위한Dropout. 뉴런 개수 절반\n",
    "\n",
    "    tf.keras.layers.Dense(32, activation='relu'), # 두 번째 은닉층\n",
    "\n",
    "    tf.keras.layers.Dense(1, activation='sigmoid') # 출력층 (Sigmoid 활성화 함수)\n",
    "])"
   ]
  },
  {
   "cell_type": "code",
   "execution_count": 61,
   "id": "66033190",
   "metadata": {},
   "outputs": [],
   "source": [
    "# 3. 모델 컴파일\n",
    "# 손실 함수: Binary Cross-Entropy\n",
    "# 최적화 알고리즘: Adam\n",
    "# 평가지표: Accuracy\n",
    "model.compile(optimizer='adam',\n",
    "              loss='binary_crossentropy',\n",
    "              metrics=['accuracy'])\n"
   ]
  },
  {
   "cell_type": "code",
   "execution_count": null,
   "id": "6019592e",
   "metadata": {},
   "outputs": [],
   "source": [
    "# 4. Early Stopping 설정(과적합 방지)\n",
    "# 검증 데이터 손실이 개선되지 않으면 학습을 조기에 종료\n",
    "# val_loss를 5번동안 보고 개선이 없으면 중단! 이후 베스트 값으로 복원!!\n",
    "early_stopping = tf.keras.callbacks.EarlyStopping(monitor='val_loss',\n",
    "                                                  patience=5, \n",
    "                                                  restore_best_weights=True)"
   ]
  },
  {
   "cell_type": "code",
   "execution_count": null,
   "id": "b71f7d9a",
   "metadata": {},
   "outputs": [
    {
     "name": "stdout",
     "output_type": "stream",
     "text": [
      "Epoch 1/50\n",
      "\u001b[1m22/22\u001b[0m \u001b[32m━━━━━━━━━━━━━━━━━━━━\u001b[0m\u001b[37m\u001b[0m \u001b[1m1s\u001b[0m 10ms/step - accuracy: 0.5444 - loss: 0.7016 - val_accuracy: 0.7867 - val_loss: 0.5882\n",
      "Epoch 2/50\n",
      "\u001b[1m22/22\u001b[0m \u001b[32m━━━━━━━━━━━━━━━━━━━━\u001b[0m\u001b[37m\u001b[0m \u001b[1m0s\u001b[0m 4ms/step - accuracy: 0.6628 - loss: 0.6160 - val_accuracy: 0.8933 - val_loss: 0.4949\n",
      "Epoch 3/50\n",
      "\u001b[1m22/22\u001b[0m \u001b[32m━━━━━━━━━━━━━━━━━━━━\u001b[0m\u001b[37m\u001b[0m \u001b[1m0s\u001b[0m 4ms/step - accuracy: 0.7247 - loss: 0.5557 - val_accuracy: 0.9000 - val_loss: 0.4228\n",
      "Epoch 4/50\n",
      "\u001b[1m22/22\u001b[0m \u001b[32m━━━━━━━━━━━━━━━━━━━━\u001b[0m\u001b[37m\u001b[0m \u001b[1m0s\u001b[0m 4ms/step - accuracy: 0.8158 - loss: 0.4546 - val_accuracy: 0.8933 - val_loss: 0.3601\n",
      "Epoch 5/50\n",
      "\u001b[1m22/22\u001b[0m \u001b[32m━━━━━━━━━━━━━━━━━━━━\u001b[0m\u001b[37m\u001b[0m \u001b[1m0s\u001b[0m 4ms/step - accuracy: 0.8150 - loss: 0.4280 - val_accuracy: 0.9067 - val_loss: 0.3147\n",
      "Epoch 6/50\n",
      "\u001b[1m22/22\u001b[0m \u001b[32m━━━━━━━━━━━━━━━━━━━━\u001b[0m\u001b[37m\u001b[0m \u001b[1m0s\u001b[0m 3ms/step - accuracy: 0.8503 - loss: 0.3711 - val_accuracy: 0.9200 - val_loss: 0.2784\n",
      "Epoch 7/50\n",
      "\u001b[1m22/22\u001b[0m \u001b[32m━━━━━━━━━━━━━━━━━━━━\u001b[0m\u001b[37m\u001b[0m \u001b[1m0s\u001b[0m 4ms/step - accuracy: 0.8246 - loss: 0.3934 - val_accuracy: 0.9133 - val_loss: 0.2574\n",
      "Epoch 8/50\n",
      "\u001b[1m22/22\u001b[0m \u001b[32m━━━━━━━━━━━━━━━━━━━━\u001b[0m\u001b[37m\u001b[0m \u001b[1m0s\u001b[0m 3ms/step - accuracy: 0.8454 - loss: 0.3404 - val_accuracy: 0.9133 - val_loss: 0.2377\n",
      "Epoch 9/50\n",
      "\u001b[1m22/22\u001b[0m \u001b[32m━━━━━━━━━━━━━━━━━━━━\u001b[0m\u001b[37m\u001b[0m \u001b[1m0s\u001b[0m 4ms/step - accuracy: 0.8411 - loss: 0.3418 - val_accuracy: 0.9067 - val_loss: 0.2223\n",
      "Epoch 10/50\n",
      "\u001b[1m22/22\u001b[0m \u001b[32m━━━━━━━━━━━━━━━━━━━━\u001b[0m\u001b[37m\u001b[0m \u001b[1m0s\u001b[0m 4ms/step - accuracy: 0.8894 - loss: 0.3078 - val_accuracy: 0.9267 - val_loss: 0.2130\n",
      "Epoch 11/50\n",
      "\u001b[1m22/22\u001b[0m \u001b[32m━━━━━━━━━━━━━━━━━━━━\u001b[0m\u001b[37m\u001b[0m \u001b[1m0s\u001b[0m 4ms/step - accuracy: 0.8673 - loss: 0.3112 - val_accuracy: 0.9333 - val_loss: 0.2036\n",
      "Epoch 12/50\n",
      "\u001b[1m22/22\u001b[0m \u001b[32m━━━━━━━━━━━━━━━━━━━━\u001b[0m\u001b[37m\u001b[0m \u001b[1m0s\u001b[0m 4ms/step - accuracy: 0.8930 - loss: 0.2718 - val_accuracy: 0.9267 - val_loss: 0.1927\n",
      "Epoch 13/50\n",
      "\u001b[1m22/22\u001b[0m \u001b[32m━━━━━━━━━━━━━━━━━━━━\u001b[0m\u001b[37m\u001b[0m \u001b[1m0s\u001b[0m 4ms/step - accuracy: 0.9038 - loss: 0.2666 - val_accuracy: 0.9333 - val_loss: 0.1827\n",
      "Epoch 14/50\n",
      "\u001b[1m22/22\u001b[0m \u001b[32m━━━━━━━━━━━━━━━━━━━━\u001b[0m\u001b[37m\u001b[0m \u001b[1m0s\u001b[0m 4ms/step - accuracy: 0.8936 - loss: 0.2552 - val_accuracy: 0.9400 - val_loss: 0.1783\n",
      "Epoch 15/50\n",
      "\u001b[1m22/22\u001b[0m \u001b[32m━━━━━━━━━━━━━━━━━━━━\u001b[0m\u001b[37m\u001b[0m \u001b[1m0s\u001b[0m 4ms/step - accuracy: 0.8986 - loss: 0.2375 - val_accuracy: 0.9400 - val_loss: 0.1760\n",
      "Epoch 16/50\n",
      "\u001b[1m22/22\u001b[0m \u001b[32m━━━━━━━━━━━━━━━━━━━━\u001b[0m\u001b[37m\u001b[0m \u001b[1m0s\u001b[0m 4ms/step - accuracy: 0.8846 - loss: 0.2451 - val_accuracy: 0.9400 - val_loss: 0.1749\n",
      "Epoch 17/50\n",
      "\u001b[1m22/22\u001b[0m \u001b[32m━━━━━━━━━━━━━━━━━━━━\u001b[0m\u001b[37m\u001b[0m \u001b[1m0s\u001b[0m 3ms/step - accuracy: 0.9053 - loss: 0.2523 - val_accuracy: 0.9400 - val_loss: 0.1676\n",
      "Epoch 18/50\n",
      "\u001b[1m22/22\u001b[0m \u001b[32m━━━━━━━━━━━━━━━━━━━━\u001b[0m\u001b[37m\u001b[0m \u001b[1m0s\u001b[0m 3ms/step - accuracy: 0.9139 - loss: 0.2492 - val_accuracy: 0.9400 - val_loss: 0.1601\n",
      "Epoch 19/50\n",
      "\u001b[1m22/22\u001b[0m \u001b[32m━━━━━━━━━━━━━━━━━━━━\u001b[0m\u001b[37m\u001b[0m \u001b[1m0s\u001b[0m 3ms/step - accuracy: 0.9330 - loss: 0.1857 - val_accuracy: 0.9400 - val_loss: 0.1666\n",
      "Epoch 20/50\n",
      "\u001b[1m22/22\u001b[0m \u001b[32m━━━━━━━━━━━━━━━━━━━━\u001b[0m\u001b[37m\u001b[0m \u001b[1m0s\u001b[0m 4ms/step - accuracy: 0.9187 - loss: 0.1878 - val_accuracy: 0.9400 - val_loss: 0.1645\n",
      "Epoch 21/50\n",
      "\u001b[1m22/22\u001b[0m \u001b[32m━━━━━━━━━━━━━━━━━━━━\u001b[0m\u001b[37m\u001b[0m \u001b[1m0s\u001b[0m 4ms/step - accuracy: 0.9185 - loss: 0.2339 - val_accuracy: 0.9333 - val_loss: 0.1548\n",
      "Epoch 22/50\n",
      "\u001b[1m22/22\u001b[0m \u001b[32m━━━━━━━━━━━━━━━━━━━━\u001b[0m\u001b[37m\u001b[0m \u001b[1m0s\u001b[0m 3ms/step - accuracy: 0.9276 - loss: 0.1727 - val_accuracy: 0.9333 - val_loss: 0.1528\n",
      "Epoch 23/50\n",
      "\u001b[1m22/22\u001b[0m \u001b[32m━━━━━━━━━━━━━━━━━━━━\u001b[0m\u001b[37m\u001b[0m \u001b[1m0s\u001b[0m 3ms/step - accuracy: 0.9283 - loss: 0.1941 - val_accuracy: 0.9333 - val_loss: 0.1500\n",
      "Epoch 24/50\n",
      "\u001b[1m22/22\u001b[0m \u001b[32m━━━━━━━━━━━━━━━━━━━━\u001b[0m\u001b[37m\u001b[0m \u001b[1m0s\u001b[0m 3ms/step - accuracy: 0.9243 - loss: 0.1632 - val_accuracy: 0.9400 - val_loss: 0.1561\n",
      "Epoch 25/50\n",
      "\u001b[1m22/22\u001b[0m \u001b[32m━━━━━━━━━━━━━━━━━━━━\u001b[0m\u001b[37m\u001b[0m \u001b[1m0s\u001b[0m 3ms/step - accuracy: 0.9249 - loss: 0.1799 - val_accuracy: 0.9333 - val_loss: 0.1468\n",
      "Epoch 26/50\n",
      "\u001b[1m22/22\u001b[0m \u001b[32m━━━━━━━━━━━━━━━━━━━━\u001b[0m\u001b[37m\u001b[0m \u001b[1m0s\u001b[0m 4ms/step - accuracy: 0.9430 - loss: 0.1621 - val_accuracy: 0.9333 - val_loss: 0.1419\n",
      "Epoch 27/50\n",
      "\u001b[1m22/22\u001b[0m \u001b[32m━━━━━━━━━━━━━━━━━━━━\u001b[0m\u001b[37m\u001b[0m \u001b[1m0s\u001b[0m 5ms/step - accuracy: 0.9425 - loss: 0.1698 - val_accuracy: 0.9333 - val_loss: 0.1483\n",
      "Epoch 28/50\n",
      "\u001b[1m22/22\u001b[0m \u001b[32m━━━━━━━━━━━━━━━━━━━━\u001b[0m\u001b[37m\u001b[0m \u001b[1m0s\u001b[0m 4ms/step - accuracy: 0.9391 - loss: 0.1799 - val_accuracy: 0.9333 - val_loss: 0.1412\n",
      "Epoch 29/50\n",
      "\u001b[1m22/22\u001b[0m \u001b[32m━━━━━━━━━━━━━━━━━━━━\u001b[0m\u001b[37m\u001b[0m \u001b[1m0s\u001b[0m 4ms/step - accuracy: 0.9205 - loss: 0.1777 - val_accuracy: 0.9333 - val_loss: 0.1450\n",
      "Epoch 30/50\n",
      "\u001b[1m22/22\u001b[0m \u001b[32m━━━━━━━━━━━━━━━━━━━━\u001b[0m\u001b[37m\u001b[0m \u001b[1m0s\u001b[0m 4ms/step - accuracy: 0.9252 - loss: 0.1923 - val_accuracy: 0.9333 - val_loss: 0.1523\n",
      "Epoch 31/50\n",
      "\u001b[1m22/22\u001b[0m \u001b[32m━━━━━━━━━━━━━━━━━━━━\u001b[0m\u001b[37m\u001b[0m \u001b[1m0s\u001b[0m 4ms/step - accuracy: 0.9227 - loss: 0.2103 - val_accuracy: 0.9333 - val_loss: 0.1377\n",
      "Epoch 32/50\n",
      "\u001b[1m22/22\u001b[0m \u001b[32m━━━━━━━━━━━━━━━━━━━━\u001b[0m\u001b[37m\u001b[0m \u001b[1m0s\u001b[0m 4ms/step - accuracy: 0.9384 - loss: 0.1805 - val_accuracy: 0.9400 - val_loss: 0.1291\n",
      "Epoch 33/50\n",
      "\u001b[1m22/22\u001b[0m \u001b[32m━━━━━━━━━━━━━━━━━━━━\u001b[0m\u001b[37m\u001b[0m \u001b[1m0s\u001b[0m 4ms/step - accuracy: 0.9503 - loss: 0.1303 - val_accuracy: 0.9400 - val_loss: 0.1303\n",
      "Epoch 34/50\n",
      "\u001b[1m22/22\u001b[0m \u001b[32m━━━━━━━━━━━━━━━━━━━━\u001b[0m\u001b[37m\u001b[0m \u001b[1m0s\u001b[0m 4ms/step - accuracy: 0.9531 - loss: 0.1221 - val_accuracy: 0.9333 - val_loss: 0.1266\n",
      "Epoch 35/50\n",
      "\u001b[1m22/22\u001b[0m \u001b[32m━━━━━━━━━━━━━━━━━━━━\u001b[0m\u001b[37m\u001b[0m \u001b[1m0s\u001b[0m 3ms/step - accuracy: 0.9517 - loss: 0.1350 - val_accuracy: 0.9333 - val_loss: 0.1312\n",
      "Epoch 36/50\n",
      "\u001b[1m22/22\u001b[0m \u001b[32m━━━━━━━━━━━━━━━━━━━━\u001b[0m\u001b[37m\u001b[0m \u001b[1m0s\u001b[0m 3ms/step - accuracy: 0.9318 - loss: 0.1861 - val_accuracy: 0.9333 - val_loss: 0.1293\n",
      "Epoch 37/50\n",
      "\u001b[1m22/22\u001b[0m \u001b[32m━━━━━━━━━━━━━━━━━━━━\u001b[0m\u001b[37m\u001b[0m \u001b[1m0s\u001b[0m 4ms/step - accuracy: 0.9604 - loss: 0.1290 - val_accuracy: 0.9400 - val_loss: 0.1315\n",
      "Epoch 38/50\n",
      "\u001b[1m22/22\u001b[0m \u001b[32m━━━━━━━━━━━━━━━━━━━━\u001b[0m\u001b[37m\u001b[0m \u001b[1m0s\u001b[0m 4ms/step - accuracy: 0.9736 - loss: 0.1093 - val_accuracy: 0.9333 - val_loss: 0.1228\n",
      "Epoch 39/50\n",
      "\u001b[1m22/22\u001b[0m \u001b[32m━━━━━━━━━━━━━━━━━━━━\u001b[0m\u001b[37m\u001b[0m \u001b[1m0s\u001b[0m 4ms/step - accuracy: 0.9509 - loss: 0.1322 - val_accuracy: 0.9333 - val_loss: 0.1259\n",
      "Epoch 40/50\n",
      "\u001b[1m22/22\u001b[0m \u001b[32m━━━━━━━━━━━━━━━━━━━━\u001b[0m\u001b[37m\u001b[0m \u001b[1m0s\u001b[0m 3ms/step - accuracy: 0.9441 - loss: 0.1329 - val_accuracy: 0.9467 - val_loss: 0.1235\n",
      "Epoch 41/50\n",
      "\u001b[1m22/22\u001b[0m \u001b[32m━━━━━━━━━━━━━━━━━━━━\u001b[0m\u001b[37m\u001b[0m \u001b[1m0s\u001b[0m 4ms/step - accuracy: 0.9729 - loss: 0.1096 - val_accuracy: 0.9400 - val_loss: 0.1201\n",
      "Epoch 42/50\n",
      "\u001b[1m22/22\u001b[0m \u001b[32m━━━━━━━━━━━━━━━━━━━━\u001b[0m\u001b[37m\u001b[0m \u001b[1m0s\u001b[0m 4ms/step - accuracy: 0.9505 - loss: 0.1341 - val_accuracy: 0.9400 - val_loss: 0.1201\n",
      "Epoch 43/50\n",
      "\u001b[1m22/22\u001b[0m \u001b[32m━━━━━━━━━━━━━━━━━━━━\u001b[0m\u001b[37m\u001b[0m \u001b[1m0s\u001b[0m 4ms/step - accuracy: 0.9470 - loss: 0.1314 - val_accuracy: 0.9400 - val_loss: 0.1228\n",
      "Epoch 44/50\n",
      "\u001b[1m22/22\u001b[0m \u001b[32m━━━━━━━━━━━━━━━━━━━━\u001b[0m\u001b[37m\u001b[0m \u001b[1m0s\u001b[0m 4ms/step - accuracy: 0.9547 - loss: 0.1350 - val_accuracy: 0.9400 - val_loss: 0.1163\n",
      "Epoch 45/50\n",
      "\u001b[1m22/22\u001b[0m \u001b[32m━━━━━━━━━━━━━━━━━━━━\u001b[0m\u001b[37m\u001b[0m \u001b[1m0s\u001b[0m 3ms/step - accuracy: 0.9437 - loss: 0.1361 - val_accuracy: 0.9533 - val_loss: 0.1158\n",
      "Epoch 46/50\n",
      "\u001b[1m22/22\u001b[0m \u001b[32m━━━━━━━━━━━━━━━━━━━━\u001b[0m\u001b[37m\u001b[0m \u001b[1m0s\u001b[0m 3ms/step - accuracy: 0.9612 - loss: 0.1110 - val_accuracy: 0.9533 - val_loss: 0.1175\n",
      "Epoch 47/50\n",
      "\u001b[1m22/22\u001b[0m \u001b[32m━━━━━━━━━━━━━━━━━━━━\u001b[0m\u001b[37m\u001b[0m \u001b[1m0s\u001b[0m 4ms/step - accuracy: 0.9560 - loss: 0.1247 - val_accuracy: 0.9533 - val_loss: 0.1167\n",
      "Epoch 48/50\n",
      "\u001b[1m22/22\u001b[0m \u001b[32m━━━━━━━━━━━━━━━━━━━━\u001b[0m\u001b[37m\u001b[0m \u001b[1m0s\u001b[0m 3ms/step - accuracy: 0.9592 - loss: 0.1186 - val_accuracy: 0.9533 - val_loss: 0.1184\n",
      "Epoch 49/50\n",
      "\u001b[1m22/22\u001b[0m \u001b[32m━━━━━━━━━━━━━━━━━━━━\u001b[0m\u001b[37m\u001b[0m \u001b[1m0s\u001b[0m 3ms/step - accuracy: 0.9388 - loss: 0.1680 - val_accuracy: 0.9467 - val_loss: 0.1141\n",
      "Epoch 50/50\n",
      "\u001b[1m22/22\u001b[0m \u001b[32m━━━━━━━━━━━━━━━━━━━━\u001b[0m\u001b[37m\u001b[0m \u001b[1m0s\u001b[0m 4ms/step - accuracy: 0.9609 - loss: 0.1209 - val_accuracy: 0.9533 - val_loss: 0.1145\n"
     ]
    }
   ],
   "source": [
    "# 5. 모델 훈련\n",
    "history = model.fit(X_train, y_train,\n",
    "                    validation_data=(X_val, y_val),\n",
    "                    epochs=50,\n",
    "                    batch_size=32,\n",
    "                    callbacks=[early_stopping]\n",
    "                    )"
   ]
  },
  {
   "cell_type": "code",
   "execution_count": 64,
   "id": "48a847d6",
   "metadata": {},
   "outputs": [
    {
     "name": "stdout",
     "output_type": "stream",
     "text": [
      "\u001b[1m5/5\u001b[0m \u001b[32m━━━━━━━━━━━━━━━━━━━━\u001b[0m\u001b[37m\u001b[0m \u001b[1m0s\u001b[0m 6ms/step - accuracy: 0.9156 - loss: 0.1844 \n",
      "Test Loss: 0.1595, Test Accuracy: 0.9200\n"
     ]
    }
   ],
   "source": [
    "# 6. 모델 평가\n",
    "# 테스트 데이터로 성능 평가\n",
    "test_loss, test_accuracy = model.evaluate(X_test, y_test)\n",
    "print(f\"Test Loss: {test_loss:.4f}, Test Accuracy: {test_accuracy:.4f}\")\n"
   ]
  },
  {
   "cell_type": "code",
   "execution_count": 65,
   "id": "bead6739",
   "metadata": {},
   "outputs": [
    {
     "name": "stdout",
     "output_type": "stream",
     "text": [
      "\u001b[1m5/5\u001b[0m \u001b[32m━━━━━━━━━━━━━━━━━━━━\u001b[0m\u001b[37m\u001b[0m \u001b[1m0s\u001b[0m 9ms/step \n"
     ]
    }
   ],
   "source": [
    "# 7. 예측\n",
    "# 새로운 데이터에 대한 예측 수행\n",
    "predictions = model.predict(X_test)\n",
    "predicted_classes = (predictions > 0.5).astype(int) # 0.5를 기준으로 클래스 결정"
   ]
  },
  {
   "cell_type": "code",
   "execution_count": 66,
   "id": "9de392c4",
   "metadata": {},
   "outputs": [
    {
     "name": "stdout",
     "output_type": "stream",
     "text": [
      "\n",
      "Classification Report:\n",
      "              precision    recall  f1-score   support\n",
      "\n",
      "           0       0.92      0.92      0.92        79\n",
      "           1       0.92      0.92      0.92        71\n",
      "\n",
      "    accuracy                           0.92       150\n",
      "   macro avg       0.92      0.92      0.92       150\n",
      "weighted avg       0.92      0.92      0.92       150\n",
      "\n"
     ]
    }
   ],
   "source": [
    "# 8. 분류 보고서 출력\n",
    "# 실제 값과 예측 값을 비교하여 성능 지표 확인\n",
    "print(\"\\nClassification Report:\")\n",
    "print(classification_report(y_test, predicted_classes))"
   ]
  },
  {
   "cell_type": "code",
   "execution_count": 67,
   "id": "551afa85",
   "metadata": {},
   "outputs": [],
   "source": [
    "#pip install matplotlib"
   ]
  },
  {
   "cell_type": "code",
   "execution_count": 68,
   "id": "a00fa4b1",
   "metadata": {},
   "outputs": [
    {
     "data": {
      "image/png": "[encoded data removed]",
      "text/plain": [
       "<Figure size 640x480 with 1 Axes>"
      ]
     },
     "metadata": {},
     "output_type": "display_data"
    },
    {
     "data": {
      "text/plain": [
       "<matplotlib.legend.Legend at 0x173cafcac70>"
      ]
     },
     "execution_count": 68,
     "metadata": {},
     "output_type": "execute_result"
    },
    {
     "data": {
      "image/png": "[encoded data removed]",
      "text/plain": [
       "<Figure size 640x480 with 1 Axes>"
      ]
     },
     "metadata": {},
     "output_type": "display_data"
    }
   ],
   "source": [
    "# 9. 학습 결과 시각화 (Optional)\n",
    "import matplotlib.pyplot as plt\n",
    "# 훈련 및 검증 손실 시각화\n",
    "plt.plot(history.history['loss'], label='Training Loss')\n",
    "plt.plot(history.history['val_loss'], label='Validation Loss')\n",
    "plt.title('Loss Over Epochs')\n",
    "plt.xlabel('Epochs')\n",
    "plt.ylabel('Loss')\n",
    "plt.legend()\n",
    "plt.show()\n",
    "# 훈련 및 검증 정확도 시각화\n",
    "plt.plot(history.history['accuracy'], label='Training Accuracy')\n",
    "plt.plot(history.history['val_accuracy'], label='Validation Accuracy')\n",
    "plt.title('Accuracy Over Epochs')\n",
    "plt.xlabel('Epochs')\n",
    "plt.ylabel('Accuracy')\n",
    "plt.legend()"
   ]
  },
  {
   "cell_type": "markdown",
   "id": "6a661aca",
   "metadata": {},
   "source": [
    "### MNIST 데이터셋을 활용한 이미지 분류"
   ]
  },
  {
   "cell_type": "code",
   "execution_count": 69,
   "id": "8e31553e",
   "metadata": {},
   "outputs": [],
   "source": [
    "# 필요한 라이브러리 가져오기\n",
    "from tensorflow.keras.models import Sequential # 순차적 모델 생성\n",
    "from tensorflow.keras.layers import Dense # 완전 연결(Dense) 층\n",
    "from tensorflow.keras.utils import to_categorical # 원-핫 인코딩\n",
    "from tensorflow.keras.datasets import mnist # MNIST 데이터셋 가져오기\n"
   ]
  },
  {
   "cell_type": "code",
   "execution_count": 70,
   "id": "671ca807",
   "metadata": {},
   "outputs": [
    {
     "name": "stdout",
     "output_type": "stream",
     "text": [
      "Downloading data from https://storage.googleapis.com/tensorflow/tf-keras-datasets/mnist.npz\n",
      "\u001b[1m11490434/11490434\u001b[0m \u001b[32m━━━━━━━━━━━━━━━━━━━━\u001b[0m\u001b[37m\u001b[0m \u001b[1m1s\u001b[0m 0us/step\n"
     ]
    }
   ],
   "source": [
    "# 1. 데이터 로드 및 전처리\n",
    "# MNIST 데이터셋을 훈련 세트와 테스트 세트로 분리\n",
    "(x_train, y_train), (x_test, y_test) = mnist.load_data()\n"
   ]
  },
  {
   "cell_type": "code",
   "execution_count": 71,
   "id": "85ef8af2",
   "metadata": {},
   "outputs": [],
   "source": [
    "# 입력 데이터(이미지)를 1차원 벡터로 변환하고 정규화 (0~1 범위로 스케일링)\n",
    "x_train = x_train.reshape(-1, 784) / 255.0 # 28x28 이미지를 784 길이의 벡터로 변환\n",
    "x_test = x_test.reshape(-1, 784) / 255.0\n"
   ]
  },
  {
   "cell_type": "code",
   "execution_count": 72,
   "id": "d2f2189d",
   "metadata": {},
   "outputs": [],
   "source": [
    "# 레이블(출력 값)을 원-핫 인코딩 (예: 3 -> [0, 0, 0, 1, 0, 0, 0, 0, 0, 0])\n",
    "y_train = to_categorical(y_train, num_classes=10)\n",
    "y_test = to_categorical(y_test, num_classes=10)"
   ]
  },
  {
   "cell_type": "code",
   "execution_count": 73,
   "id": "a88cfeca",
   "metadata": {},
   "outputs": [
    {
     "name": "stderr",
     "output_type": "stream",
     "text": [
      "c:\\Users\\choyk\\Documents\\GitHub\\tensor_proj\\.venv\\lib\\site-packages\\keras\\src\\layers\\core\\dense.py:93: UserWarning: Do not pass an `input_shape`/`input_dim` argument to a layer. When using Sequential models, prefer using an `Input(shape)` object as the first layer in the model instead.\n",
      "  super().__init__(activity_regularizer=activity_regularizer, **kwargs)\n"
     ]
    }
   ],
   "source": [
    "# 2. 모델 구성\n",
    "model = Sequential([\n",
    "# 첫 번째 은닉층: 뉴런 128개, 활성화 함수 ReLU, 입력 크기는 784\n",
    "Dense(128, activation='relu', input_shape=(784,)),\n",
    "# 두 번째 은닉층: 뉴런 64개, 활성화 함수 ReLU\n",
    "Dense(64, activation='relu'),\n",
    "# 출력층: 뉴런 10개 (클래스 수), 활성화 함수 Softmax\n",
    "Dense(10, activation='softmax')\n",
    "])"
   ]
  },
  {
   "cell_type": "code",
   "execution_count": 74,
   "id": "753cb2e1",
   "metadata": {},
   "outputs": [],
   "source": [
    "# 3. 모델 컴파일\n",
    "# 손실 함수: Categorical Crossentropy\n",
    "# 옵티마이저: Adam (효율적인 경사 하강법 알고리즘)\n",
    "# 평가 지표: 정확도 (accuracy)\n",
    "model.compile(optimizer='adam', loss='categorical_crossentropy',\n",
    "metrics=['accuracy'])"
   ]
  },
  {
   "cell_type": "code",
   "execution_count": 75,
   "id": "8a2bd09d",
   "metadata": {},
   "outputs": [
    {
     "name": "stdout",
     "output_type": "stream",
     "text": [
      "Epoch 1/10\n",
      "\u001b[1m1500/1500\u001b[0m \u001b[32m━━━━━━━━━━━━━━━━━━━━\u001b[0m\u001b[37m\u001b[0m \u001b[1m4s\u001b[0m 2ms/step - accuracy: 0.8649 - loss: 0.4771 - val_accuracy: 0.9597 - val_loss: 0.1397\n",
      "Epoch 2/10\n",
      "\u001b[1m1500/1500\u001b[0m \u001b[32m━━━━━━━━━━━━━━━━━━━━\u001b[0m\u001b[37m\u001b[0m \u001b[1m3s\u001b[0m 2ms/step - accuracy: 0.9656 - loss: 0.1163 - val_accuracy: 0.9680 - val_loss: 0.1071\n",
      "Epoch 3/10\n",
      "\u001b[1m1500/1500\u001b[0m \u001b[32m━━━━━━━━━━━━━━━━━━━━\u001b[0m\u001b[37m\u001b[0m \u001b[1m3s\u001b[0m 2ms/step - accuracy: 0.9778 - loss: 0.0747 - val_accuracy: 0.9710 - val_loss: 0.0943\n",
      "Epoch 4/10\n",
      "\u001b[1m1500/1500\u001b[0m \u001b[32m━━━━━━━━━━━━━━━━━━━━\u001b[0m\u001b[37m\u001b[0m \u001b[1m3s\u001b[0m 2ms/step - accuracy: 0.9829 - loss: 0.0538 - val_accuracy: 0.9737 - val_loss: 0.0919\n",
      "Epoch 5/10\n",
      "\u001b[1m1500/1500\u001b[0m \u001b[32m━━━━━━━━━━━━━━━━━━━━\u001b[0m\u001b[37m\u001b[0m \u001b[1m3s\u001b[0m 2ms/step - accuracy: 0.9865 - loss: 0.0417 - val_accuracy: 0.9742 - val_loss: 0.0903\n",
      "Epoch 6/10\n",
      "\u001b[1m1500/1500\u001b[0m \u001b[32m━━━━━━━━━━━━━━━━━━━━\u001b[0m\u001b[37m\u001b[0m \u001b[1m3s\u001b[0m 2ms/step - accuracy: 0.9887 - loss: 0.0340 - val_accuracy: 0.9688 - val_loss: 0.1177\n",
      "Epoch 7/10\n",
      "\u001b[1m1500/1500\u001b[0m \u001b[32m━━━━━━━━━━━━━━━━━━━━\u001b[0m\u001b[37m\u001b[0m \u001b[1m3s\u001b[0m 2ms/step - accuracy: 0.9912 - loss: 0.0277 - val_accuracy: 0.9746 - val_loss: 0.1063\n",
      "Epoch 8/10\n",
      "\u001b[1m1500/1500\u001b[0m \u001b[32m━━━━━━━━━━━━━━━━━━━━\u001b[0m\u001b[37m\u001b[0m \u001b[1m3s\u001b[0m 2ms/step - accuracy: 0.9922 - loss: 0.0234 - val_accuracy: 0.9732 - val_loss: 0.1073\n",
      "Epoch 9/10\n",
      "\u001b[1m1500/1500\u001b[0m \u001b[32m━━━━━━━━━━━━━━━━━━━━\u001b[0m\u001b[37m\u001b[0m \u001b[1m3s\u001b[0m 2ms/step - accuracy: 0.9948 - loss: 0.0157 - val_accuracy: 0.9731 - val_loss: 0.1209\n",
      "Epoch 10/10\n",
      "\u001b[1m1500/1500\u001b[0m \u001b[32m━━━━━━━━━━━━━━━━━━━━\u001b[0m\u001b[37m\u001b[0m \u001b[1m3s\u001b[0m 2ms/step - accuracy: 0.9950 - loss: 0.0163 - val_accuracy: 0.9720 - val_loss: 0.1277\n"
     ]
    },
    {
     "data": {
      "text/plain": [
       "<keras.src.callbacks.history.History at 0x173cb0edd60>"
      ]
     },
     "execution_count": 75,
     "metadata": {},
     "output_type": "execute_result"
    }
   ],
   "source": [
    "# 4. 모델 훈련\n",
    "# 훈련 데이터(x_train, y_train)로 학습, 검증 데이터로 성능 확인\n",
    "model.fit(x_train, y_train, epochs=10, batch_size=32, validation_split=0.2)"
   ]
  },
  {
   "cell_type": "code",
   "execution_count": 76,
   "id": "60cb3ec9",
   "metadata": {},
   "outputs": [
    {
     "name": "stdout",
     "output_type": "stream",
     "text": [
      "\u001b[1m313/313\u001b[0m \u001b[32m━━━━━━━━━━━━━━━━━━━━\u001b[0m\u001b[37m\u001b[0m \u001b[1m1s\u001b[0m 1ms/step - accuracy: 0.9694 - loss: 0.1292\n",
      "테스트 정확도: 0.9747999906539917\n"
     ]
    }
   ],
   "source": [
    "# 5. 모델 평가\n",
    "# 테스트 데이터(x_test, y_test)로 모델 성능 평가\n",
    "test_loss, test_accuracy = model.evaluate(x_test, y_test)\n",
    "print(f\"테스트 정확도: {test_accuracy}\")\n"
   ]
  },
  {
   "cell_type": "code",
   "execution_count": 77,
   "id": "e9339ee8",
   "metadata": {},
   "outputs": [
    {
     "name": "stdout",
     "output_type": "stream",
     "text": [
      "\u001b[1m1/1\u001b[0m \u001b[32m━━━━━━━━━━━━━━━━━━━━\u001b[0m\u001b[37m\u001b[0m \u001b[1m0s\u001b[0m 48ms/step\n",
      "Softmax 출력: [1.39430297e-13 1.69423156e-11 4.41706982e-09 1.71675694e-07\n",
      " 1.04138307e-16 4.56195249e-13 1.12862354e-14 9.99999881e-01\n",
      " 2.88252006e-10 1.19940680e-08]\n",
      "예측 클래스: 7\n"
     ]
    }
   ],
   "source": [
    "# 6. 예측\n",
    "# 테스트 데이터의 첫 번째 샘플을 예측\n",
    "predictions = model.predict(x_test[:1])\n",
    "print(f\"Softmax 출력: {predictions[0]}\") # 각 클래스에 대한 확률 값\n",
    "print(f\"예측 클래스: {predictions.argmax()}\") # 확률이 가장 높은 클래스"
   ]
  }
 ],
 "metadata": {
  "kernelspec": {
   "display_name": ".venv",
   "language": "python",
   "name": "python3"
  },
  "language_info": {
   "codemirror_mode": {
    "name": "ipython",
    "version": 3
   },
   "file_extension": ".py",
   "mimetype": "text/x-python",
   "name": "python",
   "nbconvert_exporter": "python",
   "pygments_lexer": "ipython3",
   "version": "3.9.13"
  }
 },
 "nbformat": 4,
 "nbformat_minor": 5
}
